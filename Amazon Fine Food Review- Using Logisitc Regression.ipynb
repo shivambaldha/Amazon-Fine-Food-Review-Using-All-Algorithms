{
 "cells": [
  {
   "cell_type": "markdown",
   "metadata": {},
   "source": [
    "# Amazon Fine Food Review- Using Logisitc Regression"
   ]
  },
  {
   "cell_type": "code",
   "execution_count": 1,
   "metadata": {},
   "outputs": [],
   "source": [
    "# imported necessary libraries\n",
    "import numpy as np\n",
    "import pandas as pd\n",
    "import matplotlib.pyplot as plt\n",
    "import warnings\n",
    "from sklearn.model_selection import GridSearchCV, RandomizedSearchCV\n",
    "from sklearn.linear_model import LogisticRegression\n",
    "from sklearn.metrics import accuracy_score\n",
    "from sklearn.model_selection import train_test_split, cross_val_score\n",
    "#from sklearn.cross_validation import cross_val_score\n",
    "from collections import Counter\n",
    "from sklearn.model_selection import KFold\n",
    "from sklearn.metrics import accuracy_score\n",
    "from sklearn import model_selection\n",
    "#from sklearn import cross_validation\n",
    "from scipy.stats import uniform\n",
    "from sklearn.model_selection import TimeSeriesSplit"
   ]
  },
  {
   "cell_type": "code",
   "execution_count": 2,
   "metadata": {},
   "outputs": [],
   "source": [
    "warnings.filterwarnings(\"ignore\")"
   ]
  },
  {
   "cell_type": "code",
   "execution_count": 3,
   "metadata": {},
   "outputs": [],
   "source": [
    "import sqlite3\n",
    "con = sqlite3.connect('finalassignment.sqlite')"
   ]
  },
  {
   "cell_type": "code",
   "execution_count": 4,
   "metadata": {},
   "outputs": [],
   "source": [
    "cleaned_data = pd.read_sql_query('select * from Reviews', con)"
   ]
  },
  {
   "cell_type": "code",
   "execution_count": 5,
   "metadata": {},
   "outputs": [
    {
     "data": {
      "text/plain": [
       "(364171, 12)"
      ]
     },
     "execution_count": 5,
     "metadata": {},
     "output_type": "execute_result"
    }
   ],
   "source": [
    "cleaned_data.shape"
   ]
  },
  {
   "cell_type": "code",
   "execution_count": 6,
   "metadata": {},
   "outputs": [
    {
     "data": {
      "text/plain": [
       "(364171, 12)"
      ]
     },
     "execution_count": 6,
     "metadata": {},
     "output_type": "execute_result"
    }
   ],
   "source": [
    "# Sort data based on time\n",
    "cleaned_data[\"Time\"] = pd.to_datetime(cleaned_data[\"Time\"], unit = \"s\")\n",
    "cleaned_data = cleaned_data.sort_values(by = \"Time\")\n",
    "cleaned_data.shape"
   ]
  },
  {
   "cell_type": "code",
   "execution_count": 7,
   "metadata": {},
   "outputs": [
    {
     "data": {
      "text/plain": [
       "positive    307061\n",
       "negative     57110\n",
       "Name: Score, dtype: int64"
      ]
     },
     "execution_count": 7,
     "metadata": {},
     "output_type": "execute_result"
    }
   ],
   "source": [
    "cleaned_data['Score'].value_counts()"
   ]
  },
  {
   "cell_type": "code",
   "execution_count": 8,
   "metadata": {},
   "outputs": [
    {
     "data": {
      "text/plain": [
       "(10000, 12)"
      ]
     },
     "execution_count": 8,
     "metadata": {},
     "output_type": "execute_result"
    }
   ],
   "source": [
    "# To randomly sample 5k points from both class\n",
    "\n",
    "data_p = cleaned_data[cleaned_data['Score'] == 'positive'].sample(n = 5000)\n",
    "data_n = cleaned_data[cleaned_data['Score'] == 'negative'].sample(n = 5000)\n",
    "final_10k = pd.concat([data_p, data_n])\n",
    "final_10k.shape"
   ]
  },
  {
   "cell_type": "code",
   "execution_count": 9,
   "metadata": {},
   "outputs": [],
   "source": [
    "# converting scores in 0 and 1\n",
    "final_10k[\"Score\"] = final_10k[\"Score\"].map(lambda x: 1 if x == \"positive\" else 0)\n",
    "#encoded_labels = df['label'].map(lambda x: 1 if x == 'spam' else 0).values"
   ]
  },
  {
   "cell_type": "code",
   "execution_count": 10,
   "metadata": {},
   "outputs": [
    {
     "data": {
      "text/plain": [
       "(10000, 12)"
      ]
     },
     "execution_count": 10,
     "metadata": {},
     "output_type": "execute_result"
    }
   ],
   "source": [
    "# Sorting data based on time\n",
    "final_10k['Time'] = pd.to_datetime(final_10k['Time'], unit = 's')\n",
    "final_10k = final_10k.sort_values(by = 'Time')\n",
    "final_10k.shape"
   ]
  },
  {
   "cell_type": "markdown",
   "metadata": {},
   "source": [
    "# Bag Of Word (BOW)"
   ]
  },
  {
   "cell_type": "markdown",
   "metadata": {},
   "source": [
    "in this bow technique  we using grid search. In a grid search we using list for find a C like [0.01 , 0.1 , 1 , 10] etc. "
   ]
  },
  {
   "cell_type": "code",
   "execution_count": 11,
   "metadata": {},
   "outputs": [],
   "source": [
    "# Grid search\n",
    "def lr_grid_plot(X_train, y_train):\n",
    "    tuned_parameters_grid = [{'penalty': ['l1','l2'],'C': [10**-4, 10**-2, 10**0, 10**2, 10**4]}]\n",
    "    cv = TimeSeriesSplit(n_splits = 3)\n",
    "    model_lr_grid = GridSearchCV(LogisticRegression(solver = 'liblinear'), param_grid = tuned_parameters_grid, cv = cv)\n",
    "    model_lr_grid.fit(X_train, y_train)\n",
    "    print(\"\\n**********GridSearchCV**********\\n\")\n",
    "    print(\"\\nOptimal C:\", model_lr_grid.best_estimator_.C)\n",
    "    print('\\nBest penalty:', model_lr_grid.best_estimator_.get_params()['penalty'])\n",
    "    score = model_lr_grid.cv_results_\n",
    "    plot_df = pd.DataFrame(score)\n",
    "    plt.plot(plot_df[\"param_C\"], 1- plot_df[\"mean_test_score\"], \"-o\")\n",
    "    plt.title(\"CV Error vs C\")\n",
    "    plt.xlabel(\"C\")\n",
    "    plt.ylabel(\"Cross-validation Error\")\n",
    "    plt.show()\n",
    "    return model_lr_grid.best_estimator_.C"
   ]
  },
  {
   "cell_type": "code",
   "execution_count": 12,
   "metadata": {},
   "outputs": [
    {
     "name": "stdout",
     "output_type": "stream",
     "text": [
      "shape of X: (10000,)\n"
     ]
    }
   ],
   "source": [
    "# 10k data which will use to train model after vectorization\n",
    "X = final_10k[\"CleanedText\"]\n",
    "print(\"shape of X:\", X.shape)"
   ]
  },
  {
   "cell_type": "code",
   "execution_count": 13,
   "metadata": {},
   "outputs": [
    {
     "name": "stdout",
     "output_type": "stream",
     "text": [
      "shape of y: (10000,)\n"
     ]
    }
   ],
   "source": [
    "# class label\n",
    "y = final_10k[\"Score\"]\n",
    "print(\"shape of y:\", y.shape)"
   ]
  },
  {
   "cell_type": "code",
   "execution_count": 14,
   "metadata": {},
   "outputs": [
    {
     "name": "stdout",
     "output_type": "stream",
     "text": [
      "(7000,) (7000,) (3000,) (3000,)\n"
     ]
    }
   ],
   "source": [
    "# split data into train and test where 70% data used to train model and 30% for test\n",
    "from sklearn.model_selection import train_test_split\n",
    "X_train, x_test, y_train, y_test = train_test_split(X, y, test_size = 0.3, random_state = 42, shuffle = False)\n",
    "print(X_train.shape, y_train.shape, x_test.shape , y_test.shape)"
   ]
  },
  {
   "cell_type": "code",
   "execution_count": 15,
   "metadata": {},
   "outputs": [
    {
     "data": {
      "text/plain": [
       "<7000x12589 sparse matrix of type '<class 'numpy.int64'>'\n",
       "\twith 218873 stored elements in Compressed Sparse Row format>"
      ]
     },
     "execution_count": 15,
     "metadata": {},
     "output_type": "execute_result"
    }
   ],
   "source": [
    "# Train Vectorizor\n",
    "from sklearn.feature_extraction.text import CountVectorizer \n",
    "bow = CountVectorizer()\n",
    "X_train = bow.fit_transform(X_train)\n",
    "X_train"
   ]
  },
  {
   "cell_type": "code",
   "execution_count": 16,
   "metadata": {},
   "outputs": [],
   "source": [
    "# Standardization \n",
    "from sklearn.preprocessing import StandardScaler\n",
    "scaler = StandardScaler(with_mean = False)\n",
    "std_X_train = scaler.fit_transform(X_train)"
   ]
  },
  {
   "cell_type": "code",
   "execution_count": 17,
   "metadata": {},
   "outputs": [
    {
     "data": {
      "text/plain": [
       "(3000, 12589)"
      ]
     },
     "execution_count": 17,
     "metadata": {},
     "output_type": "execute_result"
    }
   ],
   "source": [
    "# Test Vectorizor\n",
    "x_test = bow.transform(x_test)\n",
    "x_test.shape"
   ]
  },
  {
   "cell_type": "code",
   "execution_count": 18,
   "metadata": {},
   "outputs": [],
   "source": [
    "scaler = StandardScaler(with_mean = False)\n",
    "std_x_test = scaler.fit_transform(x_test)"
   ]
  },
  {
   "cell_type": "code",
   "execution_count": 19,
   "metadata": {},
   "outputs": [
    {
     "data": {
      "text/plain": [
       "(3000, 12589)"
      ]
     },
     "execution_count": 19,
     "metadata": {},
     "output_type": "execute_result"
    }
   ],
   "source": [
    "std_x_test.shape"
   ]
  },
  {
   "cell_type": "code",
   "execution_count": 20,
   "metadata": {},
   "outputs": [
    {
     "name": "stdout",
     "output_type": "stream",
     "text": [
      "\n",
      "**********GridSearchCV**********\n",
      "\n",
      "\n",
      "Optimal C: 1\n",
      "\n",
      "Best penalty: l1\n"
     ]
    },
    {
     "data": {
      "image/png": "[encoded data removed]",
      "text/plain": [
       "<Figure size 432x288 with 1 Axes>"
      ]
     },
     "metadata": {
      "needs_background": "light"
     },
     "output_type": "display_data"
    },
    {
     "data": {
      "text/plain": [
       "1"
      ]
     },
     "execution_count": 20,
     "metadata": {},
     "output_type": "execute_result"
    }
   ],
   "source": [
    "# To choose optimal c using cross validation\n",
    "from sklearn.model_selection import TimeSeriesSplit\n",
    "optimal_lambda_bow_grid = lr_grid_plot(std_X_train, y_train)\n",
    "optimal_lambda_bow_grid"
   ]
  },
  {
   "cell_type": "code",
   "execution_count": 161,
   "metadata": {},
   "outputs": [],
   "source": [
    "# instantiate learning model \n",
    "lr_model =  LogisticRegression(penalty = 'l1', C = optimal_lambda_bow_grid, class_weight = \"balanced\" , solver = 'liblinear')\n",
    "# fitting the model\n",
    "lr_model.fit(std_X_train, y_train)\n",
    "# predict the response\n",
    "pred = lr_model.predict(std_x_test)\n",
    "# predict probablistic response\n",
    "pred_prob = lr_model.predict_proba(std_x_test)\n",
    "\n",
    "# this step use both technique"
   ]
  },
  {
   "cell_type": "code",
   "execution_count": 162,
   "metadata": {},
   "outputs": [
    {
     "name": "stdout",
     "output_type": "stream",
     "text": [
      "Train accuracy: 0.7687142857142857\n"
     ]
    }
   ],
   "source": [
    "train_acc_bow_grid = lr_model.score(std_X_train, y_train)\n",
    "print(\"Train accuracy:\",train_acc_bow_grid)"
   ]
  },
  {
   "cell_type": "code",
   "execution_count": 163,
   "metadata": {},
   "outputs": [
    {
     "name": "stdout",
     "output_type": "stream",
     "text": [
      "\n",
      "The accuracy of the logistic regression for c = 1.000000 is 53.63%\n"
     ]
    }
   ],
   "source": [
    "test_acc_bow_grid = accuracy_score(y_test, pred) * 100\n",
    "print('\\nThe accuracy of the logistic regression for c = %f is %.2f%%' % (optimal_lambda_bow_grid, test_acc_bow_grid))"
   ]
  },
  {
   "cell_type": "code",
   "execution_count": 164,
   "metadata": {},
   "outputs": [
    {
     "data": {
      "text/plain": [
       "array([[1604,    1],\n",
       "       [1390,    5]], dtype=int64)"
      ]
     },
     "execution_count": 164,
     "metadata": {},
     "output_type": "execute_result"
    }
   ],
   "source": [
    "# Confusion Matrix\n",
    "from sklearn.metrics import confusion_matrix\n",
    "cm = confusion_matrix(y_test, pred)\n",
    "cm"
   ]
  },
  {
   "cell_type": "code",
   "execution_count": 165,
   "metadata": {},
   "outputs": [
    {
     "data": {
      "image/png": "[encoded data removed]",
      "text/plain": [
       "<Figure size 432x288 with 2 Axes>"
      ]
     },
     "metadata": {
      "needs_background": "light"
     },
     "output_type": "display_data"
    }
   ],
   "source": [
    "# plot confusion matrix to describe the performance of classifier.\n",
    "import seaborn as sns\n",
    "class_label = [\"negative\", \"positive\"]\n",
    "df_cm = pd.DataFrame(cm, index = class_label, columns = class_label)\n",
    "sns.heatmap(df_cm, annot = True, fmt = \"d\")\n",
    "plt.title(\"Confusiion Matrix\")\n",
    "plt.xlabel(\"Predicted Label\")\n",
    "plt.ylabel(\"True Label\")\n",
    "plt.show()"
   ]
  },
  {
   "cell_type": "code",
   "execution_count": 166,
   "metadata": {},
   "outputs": [
    {
     "name": "stdout",
     "output_type": "stream",
     "text": [
      "              precision    recall  f1-score   support\n",
      "\n",
      "           0       0.54      1.00      0.70      1605\n",
      "           1       0.83      0.00      0.01      1395\n",
      "\n",
      "    accuracy                           0.54      3000\n",
      "   macro avg       0.68      0.50      0.35      3000\n",
      "weighted avg       0.67      0.54      0.38      3000\n",
      "\n"
     ]
    }
   ],
   "source": [
    "# To show main classification report\n",
    "from sklearn.metrics import classification_report\n",
    "print(classification_report(y_test, pred))"
   ]
  },
  {
   "cell_type": "code",
   "execution_count": 167,
   "metadata": {},
   "outputs": [
    {
     "data": {
      "text/html": [
       "<div>\n",
       "<style scoped>\n",
       "    .dataframe tbody tr th:only-of-type {\n",
       "        vertical-align: middle;\n",
       "    }\n",
       "\n",
       "    .dataframe tbody tr th {\n",
       "        vertical-align: top;\n",
       "    }\n",
       "\n",
       "    .dataframe thead th {\n",
       "        text-align: right;\n",
       "    }\n",
       "</style>\n",
       "<table border=\"1\" class=\"dataframe\">\n",
       "  <thead>\n",
       "    <tr style=\"text-align: right;\">\n",
       "      <th></th>\n",
       "      <th>Model</th>\n",
       "      <th>Hyper Parameter(K) for grid search</th>\n",
       "      <th>Train Error</th>\n",
       "      <th>Test Error</th>\n",
       "      <th>Accuracy</th>\n",
       "      <th>Train Accuracy</th>\n",
       "    </tr>\n",
       "  </thead>\n",
       "  <tbody>\n",
       "    <tr>\n",
       "      <th>0</th>\n",
       "      <td>Logistic Regression with Bow</td>\n",
       "      <td>1</td>\n",
       "      <td>0.768714</td>\n",
       "      <td>46.366667</td>\n",
       "      <td>53.633333</td>\n",
       "      <td>0.768714</td>\n",
       "    </tr>\n",
       "  </tbody>\n",
       "</table>\n",
       "</div>"
      ],
      "text/plain": [
       "                          Model  Hyper Parameter(K) for grid search  \\\n",
       "0  Logistic Regression with Bow                                   1   \n",
       "\n",
       "   Train Error  Test Error   Accuracy  Train Accuracy  \n",
       "0     0.768714   46.366667  53.633333        0.768714  "
      ]
     },
     "execution_count": 167,
     "metadata": {},
     "output_type": "execute_result"
    }
   ],
   "source": [
    "# model for knn with bag of word\n",
    "models = pd.DataFrame({'Model': ['Logistic Regression with Bow'], 'Hyper Parameter(K) for grid search': [optimal_lambda_bow_grid], 'Train Error': [train_acc_bow_grid], 'Test Error': [100 - test_acc_bow_grid], 'Accuracy': [test_acc_bow_grid ], 'Train Accuracy': [train_acc_bow_grid ]}, columns = [\"Model\", \"Hyper Parameter(K) for grid search\", \"Train Error\", \"Test Error\", \"Accuracy\" , \"Train Accuracy\"])\n",
    "models.sort_values(by='Accuracy', ascending=False)"
   ]
  },
  {
   "cell_type": "markdown",
   "metadata": {},
   "source": [
    "this time i don't know what use this step."
   ]
  },
  {
   "cell_type": "code",
   "execution_count": 28,
   "metadata": {},
   "outputs": [],
   "source": [
    "def plot_precision_recall_curve(recall, precision):\n",
    "    plt.xlabel(\"Recall\")\n",
    "    plt.ylabel(\"Precision\")\n",
    "    plt.title(\"Precision_recall_curve\")\n",
    "    plt.plot(recall, precision, \"-o\")\n",
    "    plt.show()"
   ]
  },
  {
   "cell_type": "code",
   "execution_count": 29,
   "metadata": {},
   "outputs": [
    {
     "name": "stdout",
     "output_type": "stream",
     "text": [
      "Average precision score: 0.8373070795974974\n",
      "F1_score: 0.7897146882705178\n",
      "Auc score: 0.8373881125897341\n"
     ]
    },
    {
     "data": {
      "image/png": "[encoded data removed]",
      "text/plain": [
       "<Figure size 432x288 with 1 Axes>"
      ]
     },
     "metadata": {
      "needs_background": "light"
     },
     "output_type": "display_data"
    }
   ],
   "source": [
    "# F1-score, auc, precision_recall_curve\n",
    "from sklearn.metrics import f1_score, auc, precision_recall_curve, average_precision_score\n",
    "from sklearn.metrics import auc\n",
    "f1 = f1_score(y_test, pred)\n",
    "precision, recall, thresholds = precision_recall_curve(y_test, pred_prob[:,1])\n",
    "auc = auc(recall, precision)\n",
    "avg_precision = average_precision_score(y_test, pred_prob[:,1])\n",
    "print(\"Average precision score:\", avg_precision)\n",
    "print(\"F1_score:\", f1)\n",
    "print(\"Auc score:\",auc)\n",
    "plot_precision_recall_curve(recall, precision)"
   ]
  },
  {
   "cell_type": "markdown",
   "metadata": {},
   "source": [
    "Now we use random search technique and find best C and in this random search we using interval like[10^-4,10^4] and search best c ."
   ]
  },
  {
   "cell_type": "code",
   "execution_count": 30,
   "metadata": {},
   "outputs": [],
   "source": [
    "# Random search\n",
    "from scipy.stats import uniform\n",
    "from sklearn.model_selection import GridSearchCV, RandomizedSearchCV\n",
    "def lr_random_plot(X_train, y_train):\n",
    "    tuned_parameters_random = {'penalty': ['l1','l2'], 'C': uniform(loc = 0, scale = 4)}\n",
    "    cv = TimeSeriesSplit(n_splits = 3)\n",
    "    model_lr_random = RandomizedSearchCV(LogisticRegression(solver = 'liblinear'), tuned_parameters_random, cv = cv, n_iter = 10)\n",
    "    model_lr_random.fit(X_train, y_train)\n",
    "    print(\"\\n\\n**********RandomizedSearchCV**********\\n\")\n",
    "    print(\"\\nOptimal C:\", model_lr_random.best_estimator_.C)\n",
    "    print('\\nBest penalty:', model_lr_random.best_estimator_.get_params()['penalty'])\n",
    "    score = model_lr_random.cv_results_\n",
    "    plot_df = pd.DataFrame(score)\n",
    "    plt.plot(plot_df[\"param_C\"], 1 - plot_df[\"mean_test_score\"], \"-o\")\n",
    "    plt.title(\"CV Error vs C\")\n",
    "    plt.xlabel(\"C\")\n",
    "    plt.ylabel(\"Cross-validation Error\")\n",
    "    plt.show()\n",
    "    return model_lr_random.best_estimator_.C"
   ]
  },
  {
   "cell_type": "code",
   "execution_count": 31,
   "metadata": {},
   "outputs": [
    {
     "name": "stdout",
     "output_type": "stream",
     "text": [
      "\n",
      "\n",
      "**********RandomizedSearchCV**********\n",
      "\n",
      "\n",
      "Optimal C: 2.3313325867997166\n",
      "\n",
      "Best penalty: l1\n"
     ]
    },
    {
     "data": {
      "image/png": "[encoded data removed]",
      "text/plain": [
       "<Figure size 432x288 with 1 Axes>"
      ]
     },
     "metadata": {
      "needs_background": "light"
     },
     "output_type": "display_data"
    },
    {
     "data": {
      "text/plain": [
       "2.3313325867997166"
      ]
     },
     "execution_count": 31,
     "metadata": {},
     "output_type": "execute_result"
    }
   ],
   "source": [
    "optimal_lambda_bow_random = lr_random_plot(std_X_train, y_train)\n",
    "optimal_lambda_bow_random"
   ]
  },
  {
   "cell_type": "code",
   "execution_count": 32,
   "metadata": {},
   "outputs": [],
   "source": [
    "# instantiate learning model \n",
    "lr_model =  LogisticRegression(penalty = 'l2', C = optimal_lambda_bow_grid, class_weight = \"balanced\")\n",
    "# fitting the model\n",
    "lr_model.fit(std_X_train, y_train)\n",
    "# predict the response\n",
    "pred = lr_model.predict(std_x_test)\n",
    "# predict probablistic response\n",
    "pred_prob = lr_model.predict_proba(std_x_test)\n",
    "\n",
    "# this step use both technique"
   ]
  },
  {
   "cell_type": "code",
   "execution_count": 33,
   "metadata": {},
   "outputs": [
    {
     "name": "stdout",
     "output_type": "stream",
     "text": [
      "Train accuracy: 1.0\n"
     ]
    }
   ],
   "source": [
    "train_acc_bow_random = lr_model.score(std_X_train, y_train)\n",
    "print(\"Train accuracy:\",train_acc_bow_random)"
   ]
  },
  {
   "cell_type": "code",
   "execution_count": 34,
   "metadata": {},
   "outputs": [
    {
     "name": "stdout",
     "output_type": "stream",
     "text": [
      "\n",
      "The accuracy of the logistic regression for c = 2.331333 is 80.10%\n"
     ]
    }
   ],
   "source": [
    "test_acc_bow_random = accuracy_score(y_test, pred) * 100\n",
    "print('\\nThe accuracy of the logistic regression for c = %f is %.2f%%' % (optimal_lambda_bow_random, test_acc_bow_random))"
   ]
  },
  {
   "cell_type": "code",
   "execution_count": 35,
   "metadata": {},
   "outputs": [
    {
     "data": {
      "text/plain": [
       "array([[1282,  323],\n",
       "       [ 274, 1121]], dtype=int64)"
      ]
     },
     "execution_count": 35,
     "metadata": {},
     "output_type": "execute_result"
    }
   ],
   "source": [
    "# Confusion Matrix\n",
    "from sklearn.metrics import confusion_matrix\n",
    "cm = confusion_matrix(y_test, pred)\n",
    "cm"
   ]
  },
  {
   "cell_type": "code",
   "execution_count": 36,
   "metadata": {},
   "outputs": [
    {
     "data": {
      "image/png": "[encoded data removed]",
      "text/plain": [
       "<Figure size 432x288 with 2 Axes>"
      ]
     },
     "metadata": {
      "needs_background": "light"
     },
     "output_type": "display_data"
    }
   ],
   "source": [
    "# plot confusion matrix to describe the performance of classifier.\n",
    "import seaborn as sns\n",
    "class_label = [\"negative\", \"positive\"]\n",
    "df_cm = pd.DataFrame(cm, index = class_label, columns = class_label)\n",
    "sns.heatmap(df_cm, annot = True, fmt = \"d\")\n",
    "plt.title(\"Confusiion Matrix\")\n",
    "plt.xlabel(\"Predicted Label\")\n",
    "plt.ylabel(\"True Label\")\n",
    "plt.show()"
   ]
  },
  {
   "cell_type": "code",
   "execution_count": 37,
   "metadata": {},
   "outputs": [
    {
     "name": "stdout",
     "output_type": "stream",
     "text": [
      "              precision    recall  f1-score   support\n",
      "\n",
      "           0       0.82      0.80      0.81      1605\n",
      "           1       0.78      0.80      0.79      1395\n",
      "\n",
      "    accuracy                           0.80      3000\n",
      "   macro avg       0.80      0.80      0.80      3000\n",
      "weighted avg       0.80      0.80      0.80      3000\n",
      "\n"
     ]
    }
   ],
   "source": [
    "# To show main classification report\n",
    "from sklearn.metrics import classification_report\n",
    "print(classification_report(y_test, pred))"
   ]
  },
  {
   "cell_type": "code",
   "execution_count": 38,
   "metadata": {},
   "outputs": [
    {
     "data": {
      "text/html": [
       "<div>\n",
       "<style scoped>\n",
       "    .dataframe tbody tr th:only-of-type {\n",
       "        vertical-align: middle;\n",
       "    }\n",
       "\n",
       "    .dataframe tbody tr th {\n",
       "        vertical-align: top;\n",
       "    }\n",
       "\n",
       "    .dataframe thead th {\n",
       "        text-align: right;\n",
       "    }\n",
       "</style>\n",
       "<table border=\"1\" class=\"dataframe\">\n",
       "  <thead>\n",
       "    <tr style=\"text-align: right;\">\n",
       "      <th></th>\n",
       "      <th>Model</th>\n",
       "      <th>Hyper Parameter(K) for random search</th>\n",
       "      <th>Train Error</th>\n",
       "      <th>Test Error</th>\n",
       "      <th>Accuracy</th>\n",
       "      <th>Train Accuracy</th>\n",
       "    </tr>\n",
       "  </thead>\n",
       "  <tbody>\n",
       "    <tr>\n",
       "      <th>0</th>\n",
       "      <td>Logistic Regression with Bow</td>\n",
       "      <td>2.331333</td>\n",
       "      <td>1.0</td>\n",
       "      <td>19.9</td>\n",
       "      <td>80.1</td>\n",
       "      <td>1.0</td>\n",
       "    </tr>\n",
       "  </tbody>\n",
       "</table>\n",
       "</div>"
      ],
      "text/plain": [
       "                          Model  Hyper Parameter(K) for random search  \\\n",
       "0  Logistic Regression with Bow                              2.331333   \n",
       "\n",
       "   Train Error  Test Error  Accuracy  Train Accuracy  \n",
       "0          1.0        19.9      80.1             1.0  "
      ]
     },
     "execution_count": 38,
     "metadata": {},
     "output_type": "execute_result"
    }
   ],
   "source": [
    "# model for knn with bag of word\n",
    "modelsgrid = pd.DataFrame({'Model': ['Logistic Regression with Bow'], 'Hyper Parameter(K) for random search': [optimal_lambda_bow_random], 'Train Error': [train_acc_bow_random], 'Test Error': [100 - test_acc_bow_random], 'Accuracy': [test_acc_bow_random ], 'Train Accuracy': [train_acc_bow_random ]}, columns = [\"Model\", \"Hyper Parameter(K) for random search\", \"Train Error\", \"Test Error\", \"Accuracy\" , \"Train Accuracy\"])\n",
    "modelsgrid.sort_values(by='Accuracy', ascending=False)\n"
   ]
  },
  {
   "cell_type": "markdown",
   "metadata": {},
   "source": [
    "now we find f1 score and acc.."
   ]
  },
  {
   "cell_type": "code",
   "execution_count": 39,
   "metadata": {},
   "outputs": [],
   "source": [
    "def plot_precision_recall_curve(recall, precision):\n",
    "    plt.xlabel(\"Recall\")\n",
    "    plt.ylabel(\"Precision\")\n",
    "    plt.title(\"Precision_recall_curve\")\n",
    "    plt.plot(recall, precision, \"-o\")\n",
    "    plt.show()"
   ]
  },
  {
   "cell_type": "code",
   "execution_count": 40,
   "metadata": {},
   "outputs": [
    {
     "name": "stdout",
     "output_type": "stream",
     "text": [
      "Average precision score: 0.8373070795974974\n",
      "F1_score: 0.7897146882705178\n",
      "Auc score: 0.8373881125897341\n"
     ]
    },
    {
     "data": {
      "image/png": "[encoded data removed]",
      "text/plain": [
       "<Figure size 432x288 with 1 Axes>"
      ]
     },
     "metadata": {
      "needs_background": "light"
     },
     "output_type": "display_data"
    }
   ],
   "source": [
    "# F1-score, auc, precision_recall_curve\n",
    "from sklearn.metrics import f1_score, auc, precision_recall_curve, average_precision_score\n",
    "from sklearn.metrics import auc\n",
    "f1 = f1_score(y_test, pred)\n",
    "precision, recall, thresholds = precision_recall_curve(y_test, pred_prob[:,1])\n",
    "auc = auc(recall, precision)\n",
    "avg_precision = average_precision_score(y_test, pred_prob[:,1])\n",
    "print(\"Average precision score:\", avg_precision)\n",
    "print(\"F1_score:\", f1)\n",
    "print(\"Auc score:\",auc)\n",
    "plot_precision_recall_curve(recall, precision)"
   ]
  },
  {
   "cell_type": "code",
   "execution_count": 41,
   "metadata": {},
   "outputs": [
    {
     "name": "stdout",
     "output_type": "stream",
     "text": [
      "\n",
      "C value: 10\n",
      "Coefficient of each feature: [[0. 0. 0. ... 0. 0. 0.]]\n",
      "Training accuracy: 91.66%\n",
      "Test accuracy: 74.23%\n",
      "Number of non-zero element:  2157\n",
      "\n",
      "C value: 1\n",
      "Coefficient of each feature: [[0. 0. 0. ... 0. 0. 0.]]\n",
      "Training accuracy: 91.53%\n",
      "Test accuracy: 78.73%\n",
      "Number of non-zero element:  1307\n",
      "\n",
      "C value: 0.1\n",
      "Coefficient of each feature: [[0. 0. 0. ... 0. 0. 0.]]\n",
      "Training accuracy: 84.54%\n",
      "Test accuracy: 83.23%\n",
      "Number of non-zero element:  258\n"
     ]
    }
   ],
   "source": [
    "# Tried different value of c and finding features weight\n",
    "# More Sparsity (Fewer elements of W* being non-zero) by increasing Lambda (decreasing C)\n",
    "C_param = [10, 1, 0.1]\n",
    "\n",
    "for c in C_param:\n",
    "    clf = LogisticRegression(penalty='l1', C = c, class_weight = \"balanced\",  solver='liblinear')\n",
    "    clf.fit(X_train, y_train)\n",
    "    print('\\nC value:', c)\n",
    "    print('Coefficient of each feature:', clf.coef_)\n",
    "    print('Training accuracy: %0.2f%%' %(clf.score(std_X_train, y_train) * 100))\n",
    "    print('Test accuracy: %0.2f%%' %(clf.score(std_x_test, y_test) * 100))\n",
    "    print(\"Number of non-zero element: \",np.count_nonzero(clf.coef_))"
   ]
  },
  {
   "cell_type": "markdown",
   "metadata": {},
   "source": [
    "# Checking for multicollinearity using pertubation test"
   ]
  },
  {
   "cell_type": "code",
   "execution_count": 42,
   "metadata": {},
   "outputs": [
    {
     "name": "stdout",
     "output_type": "stream",
     "text": [
      "Accuracy score: 81.87%\n",
      "3421\n"
     ]
    }
   ],
   "source": [
    "clf = LogisticRegression(penalty='l1', C = optimal_lambda_bow_random, class_weight = \"balanced\" ,solver='liblinear')\n",
    "clf.fit(std_X_train, y_train)\n",
    "y_pred = clf.predict(std_x_test)\n",
    "print(\"Accuracy score: %0.2f%%\" %(accuracy_score(y_test, y_pred) * 100))\n",
    "print(np.count_nonzero(clf.coef_))"
   ]
  },
  {
   "cell_type": "code",
   "execution_count": 43,
   "metadata": {},
   "outputs": [
    {
     "data": {
      "text/plain": [
       "(7000, 12589)"
      ]
     },
     "execution_count": 43,
     "metadata": {},
     "output_type": "execute_result"
    }
   ],
   "source": [
    "std_X_train.shape"
   ]
  },
  {
   "cell_type": "code",
   "execution_count": 44,
   "metadata": {},
   "outputs": [
    {
     "name": "stdout",
     "output_type": "stream",
     "text": [
      "[-6.82360913e-02  9.84282006e-03  5.90714016e-02  9.93287729e-02\n",
      "  2.73061582e-03  5.29813433e-02  1.32981706e-01  3.77296249e-02\n",
      " -1.70386374e-02 -3.63795721e-02  1.28236055e-01 -1.24626296e-01\n",
      " -2.71194448e-02  2.13279085e-06  1.90434530e-01 -4.35799668e-02\n",
      " -1.03186582e-01 -4.53110068e-03 -6.48360012e-03 -3.76055710e-02]\n"
     ]
    }
   ],
   "source": [
    "from scipy.sparse import find\n",
    "\n",
    "# Before adding noise in data\n",
    "cf = clf.coef_[0]\n",
    "w_coef1 = cf[np.nonzero(cf)]\n",
    "print(w_coef1[:20])"
   ]
  },
  {
   "cell_type": "code",
   "execution_count": 45,
   "metadata": {},
   "outputs": [
    {
     "data": {
      "text/plain": [
       "(7000, 12589)"
      ]
     },
     "execution_count": 45,
     "metadata": {},
     "output_type": "execute_result"
    }
   ],
   "source": [
    "# Generate random normal variable as a noise \n",
    "std_X_train_pert = std_X_train\n",
    "noise = np.random.normal(0, 0.0001, size = (std_X_train_pert[np.nonzero(std_X_train_pert)].size))\n",
    "#print(noise.shape)\n",
    "np.nonzero(std_X_train_pert)\n",
    "std_X_train_pert[np.nonzero(std_X_train_pert)] = noise + std_X_train_pert[np.nonzero(std_X_train_pert)]\n",
    "std_X_train_pert.shape"
   ]
  },
  {
   "cell_type": "code",
   "execution_count": 46,
   "metadata": {},
   "outputs": [
    {
     "name": "stdout",
     "output_type": "stream",
     "text": [
      "Accuracy score: 81.57%\n",
      "3414\n"
     ]
    }
   ],
   "source": [
    "clf = LogisticRegression(penalty ='l1', C = optimal_lambda_bow_random, class_weight = \"balanced\", solver='liblinear')\n",
    "clf.fit(std_X_train_pert, y_train)\n",
    "y_pred = clf.predict(std_x_test)\n",
    "print(\"Accuracy score: %0.2f%%\" %(accuracy_score(y_test, y_pred) * 100))\n",
    "print(np.count_nonzero(clf.coef_))"
   ]
  },
  {
   "cell_type": "code",
   "execution_count": 47,
   "metadata": {},
   "outputs": [
    {
     "name": "stdout",
     "output_type": "stream",
     "text": [
      "[-0.06804577  0.01116979  0.07392591  0.09713725  0.00933983  0.10241969\n",
      "  0.1295182   0.03657514 -0.0185252  -0.00022503  0.12692008 -0.12256549\n",
      " -0.02524844  0.02637408  0.18548416 -0.04939926 -0.10235011 -0.00971379\n",
      " -0.00782791 -0.04687882]\n"
     ]
    }
   ],
   "source": [
    "cf = clf.coef_[0]\n",
    "w_coef2 = cf[np.nonzero(cf)]\n",
    "print(w_coef2[:20])"
   ]
  },
  {
   "cell_type": "code",
   "execution_count": 48,
   "metadata": {},
   "outputs": [
    {
     "name": "stdout",
     "output_type": "stream",
     "text": [
      "No of weights that changes more than 40% is: 2843\n"
     ]
    }
   ],
   "source": [
    "# Calculate %increase \n",
    "cnt = 0\n",
    "for w1, w2 in zip(w_coef1, w_coef2):\n",
    "    inc = abs(w1 - w2)/abs(w1) * 100\n",
    "    if inc > 40:\n",
    "        cnt += 1\n",
    "print(\"No of weights that changes more than 40% is:\", cnt)"
   ]
  },
  {
   "cell_type": "code",
   "execution_count": 49,
   "metadata": {},
   "outputs": [
    {
     "name": "stdout",
     "output_type": "stream",
     "text": [
      "*----------****Top 10 positive*------------------****\n",
      "         Word  Coefficient\n",
      "4827    great     2.271542\n",
      "8133  perfect     1.625330\n",
      "6435     love     1.573194\n",
      "928      best     1.206193\n",
      "4707     good     1.037701\n",
      "3778    excel     0.988556\n",
      "7364     nice     0.974439\n",
      "2906   delici     0.966022\n",
      "286      also     0.933961\n",
      "4067     find     0.871164\n",
      "**-------------***Top 10 negative**---------------***\n",
      "             Word  Coefficient\n",
      "3155      disgust    -0.833823\n",
      "702           bad    -0.838252\n",
      "9892      similac    -0.871170\n",
      "12414        wors    -0.928068\n",
      "12424       would    -0.942042\n",
      "5268      horribl    -0.981748\n",
      "9174       return    -1.054600\n",
      "10902        tast    -1.199119\n",
      "12416       worst    -1.348415\n",
      "3119   disappoint    -1.665113\n"
     ]
    }
   ],
   "source": [
    "# Features importance \n",
    "\n",
    "features = bow.get_feature_names()\n",
    "coef = clf.coef_[0]\n",
    "coeff_df = pd.DataFrame({'Word' : features, 'Coefficient' : coef})\n",
    "coeff_df = coeff_df.sort_values(\"Coefficient\", ascending = False)\n",
    "print('*----------****Top 10 positive*------------------****')\n",
    "print(coeff_df.head(10))\n",
    "print('**-------------***Top 10 negative**---------------***')\n",
    "print(coeff_df.tail(10))"
   ]
  },
  {
   "cell_type": "markdown",
   "metadata": {},
   "source": [
    "# Tf-Idf"
   ]
  },
  {
   "cell_type": "markdown",
   "metadata": {},
   "source": [
    "Now we using grid search for tfidf and plot a graph and find error , accuracy ,f1 score graph etc.. "
   ]
  },
  {
   "cell_type": "code",
   "execution_count": 50,
   "metadata": {},
   "outputs": [],
   "source": [
    "# data\n",
    "X = final_10k[\"CleanedText\"]"
   ]
  },
  {
   "cell_type": "code",
   "execution_count": 51,
   "metadata": {},
   "outputs": [],
   "source": [
    "# Target/class-label\n",
    "y = final_10k[\"Score\"]"
   ]
  },
  {
   "cell_type": "code",
   "execution_count": 52,
   "metadata": {},
   "outputs": [
    {
     "name": "stdout",
     "output_type": "stream",
     "text": [
      "(7000,) (3000,) (7000,) (3000,)\n"
     ]
    }
   ],
   "source": [
    "# Split data\n",
    "X_train, x_test, y_train, y_test = train_test_split(X, y, test_size = 0.3, random_state = 42, shuffle = False)\n",
    "print(X_train.shape, x_test.shape, y_train.shape, y_test.shape)"
   ]
  },
  {
   "cell_type": "code",
   "execution_count": 53,
   "metadata": {},
   "outputs": [
    {
     "data": {
      "text/plain": [
       "<7000x182674 sparse matrix of type '<class 'numpy.float64'>'\n",
       "\twith 474789 stored elements in Compressed Sparse Row format>"
      ]
     },
     "execution_count": 53,
     "metadata": {},
     "output_type": "execute_result"
    }
   ],
   "source": [
    "from sklearn.feature_extraction.text import TfidfVectorizer\n",
    "tf_idf_vect = TfidfVectorizer(ngram_range=(1,2))\n",
    "X_train = tf_idf_vect.fit_transform(X_train)\n",
    "X_trn = X_train\n",
    "X_train"
   ]
  },
  {
   "cell_type": "code",
   "execution_count": 54,
   "metadata": {},
   "outputs": [],
   "source": [
    "# Standardization \n",
    "from sklearn.preprocessing import StandardScaler\n",
    "scaler = StandardScaler(with_mean = False)\n",
    "std_X_train = scaler.fit_transform(X_train)"
   ]
  },
  {
   "cell_type": "code",
   "execution_count": 55,
   "metadata": {},
   "outputs": [
    {
     "data": {
      "text/plain": [
       "(3000, 182674)"
      ]
     },
     "execution_count": 55,
     "metadata": {},
     "output_type": "execute_result"
    }
   ],
   "source": [
    "# Convert test text data to its vectorizor\n",
    "x_test = tf_idf_vect.transform(x_test)\n",
    "x_tst = x_test\n",
    "x_test.shape"
   ]
  },
  {
   "cell_type": "code",
   "execution_count": 56,
   "metadata": {},
   "outputs": [],
   "source": [
    "scaler = StandardScaler(with_mean = False)\n",
    "std_x_test = scaler.fit_transform(x_test)"
   ]
  },
  {
   "cell_type": "code",
   "execution_count": 57,
   "metadata": {},
   "outputs": [
    {
     "name": "stdout",
     "output_type": "stream",
     "text": [
      "\n",
      "**********GridSearchCV**********\n",
      "\n",
      "\n",
      "Optimal C: 1\n",
      "\n",
      "Best penalty: l1\n"
     ]
    },
    {
     "data": {
      "image/png": "[encoded data removed]",
      "text/plain": [
       "<Figure size 432x288 with 1 Axes>"
      ]
     },
     "metadata": {
      "needs_background": "light"
     },
     "output_type": "display_data"
    },
    {
     "data": {
      "text/plain": [
       "1"
      ]
     },
     "execution_count": 57,
     "metadata": {},
     "output_type": "execute_result"
    }
   ],
   "source": [
    "# To choose optimal_alpha using nested cross validation\n",
    "optimal_lambda_tfidf_grid = lr_grid_plot(std_X_train, y_train)\n",
    "optimal_lambda_tfidf_grid"
   ]
  },
  {
   "cell_type": "code",
   "execution_count": 58,
   "metadata": {},
   "outputs": [],
   "source": [
    "# instantiate learning model \n",
    "lr_model =  LogisticRegression(penalty = 'l2', C = optimal_lambda_tfidf_grid, class_weight = \"balanced\")\n",
    "# fitting the model\n",
    "lr_model.fit(std_X_train, y_train)\n",
    "# predict the response\n",
    "pred = lr_model.predict(std_x_test)\n",
    "# predict probablistic response\n",
    "pred_prob = lr_model.predict_proba(std_x_test)"
   ]
  },
  {
   "cell_type": "code",
   "execution_count": 59,
   "metadata": {},
   "outputs": [
    {
     "name": "stdout",
     "output_type": "stream",
     "text": [
      "Average precision score: 0.9084271735460614\n",
      "F1_score: 0.8170850994457124\n",
      "Auc score: 0.9083833601198805\n"
     ]
    },
    {
     "data": {
      "image/png": "[encoded data removed]",
      "text/plain": [
       "<Figure size 432x288 with 1 Axes>"
      ]
     },
     "metadata": {
      "needs_background": "light"
     },
     "output_type": "display_data"
    }
   ],
   "source": [
    "# F1-score, auc, precision_recall_curve\n",
    "from sklearn.metrics import f1_score, auc, precision_recall_curve, average_precision_score\n",
    "from sklearn.metrics import auc\n",
    "f1 = f1_score(y_test, pred)\n",
    "precision, recall, thresholds = precision_recall_curve(y_test, pred_prob[:,1])\n",
    "auc = auc(recall, precision)\n",
    "avg_precision = average_precision_score(y_test, pred_prob[:,1])\n",
    "print(\"Average precision score:\", avg_precision)\n",
    "print(\"F1_score:\", f1)\n",
    "print(\"Auc score:\",auc)\n",
    "plot_precision_recall_curve(recall, precision)"
   ]
  },
  {
   "cell_type": "code",
   "execution_count": 60,
   "metadata": {},
   "outputs": [
    {
     "name": "stdout",
     "output_type": "stream",
     "text": [
      "Train accuracy: 1.0\n"
     ]
    }
   ],
   "source": [
    "train_acc_tfidf_grid = lr_model.score(std_X_train, y_train)\n",
    "print(\"Train accuracy:\",train_acc_tfidf_grid)"
   ]
  },
  {
   "cell_type": "code",
   "execution_count": 61,
   "metadata": {},
   "outputs": [
    {
     "name": "stdout",
     "output_type": "stream",
     "text": [
      "\n",
      "The accuracy of the logistic regression for c = 1.000000 is 81.30%\n"
     ]
    }
   ],
   "source": [
    "test_acc_tfidf_grid = accuracy_score(y_test, pred) * 100\n",
    "print('\\nThe accuracy of the logistic regression for c = %f is %.2f%%' % (optimal_lambda_tfidf_grid, test_acc_tfidf_grid))"
   ]
  },
  {
   "cell_type": "code",
   "execution_count": 62,
   "metadata": {},
   "outputs": [
    {
     "data": {
      "text/plain": [
       "array([[1186,  419],\n",
       "       [ 142, 1253]], dtype=int64)"
      ]
     },
     "execution_count": 62,
     "metadata": {},
     "output_type": "execute_result"
    }
   ],
   "source": [
    "# Confusion Matrix\n",
    "from sklearn.metrics import confusion_matrix\n",
    "cm = confusion_matrix(y_test, pred)\n",
    "cm"
   ]
  },
  {
   "cell_type": "code",
   "execution_count": 63,
   "metadata": {},
   "outputs": [
    {
     "data": {
      "image/png": "[encoded data removed]",
      "text/plain": [
       "<Figure size 432x288 with 2 Axes>"
      ]
     },
     "metadata": {
      "needs_background": "light"
     },
     "output_type": "display_data"
    }
   ],
   "source": [
    "# plot confusion matrix to describe the performance of classifier.\n",
    "import seaborn as sns\n",
    "class_label = [\"negative\", \"positive\"]\n",
    "df_cm = pd.DataFrame(cm, index = class_label, columns = class_label)\n",
    "sns.heatmap(df_cm, annot = True, fmt = \"d\")\n",
    "plt.title(\"Confusiion Matrix\")\n",
    "plt.xlabel(\"Predicted Label\")\n",
    "plt.ylabel(\"True Label\")\n",
    "plt.show()"
   ]
  },
  {
   "cell_type": "code",
   "execution_count": 64,
   "metadata": {},
   "outputs": [
    {
     "name": "stdout",
     "output_type": "stream",
     "text": [
      "              precision    recall  f1-score   support\n",
      "\n",
      "           0       0.89      0.74      0.81      1605\n",
      "           1       0.75      0.90      0.82      1395\n",
      "\n",
      "    accuracy                           0.81      3000\n",
      "   macro avg       0.82      0.82      0.81      3000\n",
      "weighted avg       0.83      0.81      0.81      3000\n",
      "\n"
     ]
    }
   ],
   "source": [
    "# To show main classification report\n",
    "from sklearn.metrics import classification_report\n",
    "print(classification_report(y_test, pred))"
   ]
  },
  {
   "cell_type": "code",
   "execution_count": 65,
   "metadata": {},
   "outputs": [
    {
     "data": {
      "text/html": [
       "<div>\n",
       "<style scoped>\n",
       "    .dataframe tbody tr th:only-of-type {\n",
       "        vertical-align: middle;\n",
       "    }\n",
       "\n",
       "    .dataframe tbody tr th {\n",
       "        vertical-align: top;\n",
       "    }\n",
       "\n",
       "    .dataframe thead th {\n",
       "        text-align: right;\n",
       "    }\n",
       "</style>\n",
       "<table border=\"1\" class=\"dataframe\">\n",
       "  <thead>\n",
       "    <tr style=\"text-align: right;\">\n",
       "      <th></th>\n",
       "      <th>Model</th>\n",
       "      <th>Hyper Parameter(K) for grid search</th>\n",
       "      <th>Train Error</th>\n",
       "      <th>Test Error</th>\n",
       "      <th>Accuracy</th>\n",
       "      <th>Train Accuracy</th>\n",
       "    </tr>\n",
       "  </thead>\n",
       "  <tbody>\n",
       "    <tr>\n",
       "      <th>0</th>\n",
       "      <td>Logistic Regression with TFIDF</td>\n",
       "      <td>1</td>\n",
       "      <td>1.0</td>\n",
       "      <td>18.7</td>\n",
       "      <td>81.3</td>\n",
       "      <td>1.0</td>\n",
       "    </tr>\n",
       "  </tbody>\n",
       "</table>\n",
       "</div>"
      ],
      "text/plain": [
       "                            Model  Hyper Parameter(K) for grid search  \\\n",
       "0  Logistic Regression with TFIDF                                   1   \n",
       "\n",
       "   Train Error  Test Error  Accuracy  Train Accuracy  \n",
       "0          1.0        18.7      81.3             1.0  "
      ]
     },
     "execution_count": 65,
     "metadata": {},
     "output_type": "execute_result"
    }
   ],
   "source": [
    "# model for knn with bag of word\n",
    "modelsgrid = pd.DataFrame({'Model': ['Logistic Regression with TFIDF'], 'Hyper Parameter(K) for grid search': [optimal_lambda_tfidf_grid], 'Train Error': [train_acc_tfidf_grid], 'Test Error': [100 - test_acc_tfidf_grid], 'Accuracy': [test_acc_tfidf_grid ], 'Train Accuracy': [train_acc_tfidf_grid ]}, columns = [\"Model\", \"Hyper Parameter(K) for grid search\", \"Train Error\", \"Test Error\", \"Accuracy\" , \"Train Accuracy\"])\n",
    "modelsgrid.sort_values(by='Accuracy', ascending=False)\n"
   ]
  },
  {
   "cell_type": "markdown",
   "metadata": {},
   "source": [
    "Now we using random search for tfidf and plot a graph and find error , accuracy ,f1 score graph etc.. "
   ]
  },
  {
   "cell_type": "code",
   "execution_count": 66,
   "metadata": {},
   "outputs": [
    {
     "name": "stdout",
     "output_type": "stream",
     "text": [
      "\n",
      "\n",
      "**********RandomizedSearchCV**********\n",
      "\n",
      "\n",
      "Optimal C: 3.762733693938149\n",
      "\n",
      "Best penalty: l1\n"
     ]
    },
    {
     "data": {
      "image/png": "[encoded data removed]",
      "text/plain": [
       "<Figure size 432x288 with 1 Axes>"
      ]
     },
     "metadata": {
      "needs_background": "light"
     },
     "output_type": "display_data"
    },
    {
     "data": {
      "text/plain": [
       "3.762733693938149"
      ]
     },
     "execution_count": 66,
     "metadata": {},
     "output_type": "execute_result"
    }
   ],
   "source": [
    "optimal_lambda_tfidf_random = lr_random_plot(std_X_train, y_train)\n",
    "optimal_lambda_tfidf_random"
   ]
  },
  {
   "cell_type": "code",
   "execution_count": 67,
   "metadata": {},
   "outputs": [],
   "source": [
    "# instantiate learning model \n",
    "lr_model =  LogisticRegression(penalty = 'l2', C = optimal_lambda_tfidf_random, class_weight = \"balanced\")\n",
    "# fitting the model\n",
    "lr_model.fit(std_X_train, y_train)\n",
    "# predict the response\n",
    "pred = lr_model.predict(std_x_test)\n",
    "# predict probablistic response\n",
    "pred_prob = lr_model.predict_proba(std_x_test)"
   ]
  },
  {
   "cell_type": "code",
   "execution_count": 68,
   "metadata": {},
   "outputs": [
    {
     "name": "stdout",
     "output_type": "stream",
     "text": [
      "Average precision score: 0.9081278131174135\n",
      "F1_score: 0.8173515981735159\n",
      "Auc score: 0.9080836633561873\n"
     ]
    },
    {
     "data": {
      "image/png": "[encoded data removed]",
      "text/plain": [
       "<Figure size 432x288 with 1 Axes>"
      ]
     },
     "metadata": {
      "needs_background": "light"
     },
     "output_type": "display_data"
    }
   ],
   "source": [
    "# F1-score, auc, precision_recall_curve\n",
    "from sklearn.metrics import f1_score, auc, precision_recall_curve, average_precision_score\n",
    "from sklearn.metrics import auc\n",
    "f1 = f1_score(y_test, pred)\n",
    "precision, recall, thresholds = precision_recall_curve(y_test, pred_prob[:,1])\n",
    "auc = auc(recall, precision)\n",
    "avg_precision = average_precision_score(y_test, pred_prob[:,1])\n",
    "print(\"Average precision score:\", avg_precision)\n",
    "print(\"F1_score:\", f1)\n",
    "print(\"Auc score:\",auc)\n",
    "plot_precision_recall_curve(recall, precision)"
   ]
  },
  {
   "cell_type": "code",
   "execution_count": 69,
   "metadata": {},
   "outputs": [
    {
     "name": "stdout",
     "output_type": "stream",
     "text": [
      "Train accuracy 1.000000%:\n"
     ]
    }
   ],
   "source": [
    "train_acc_tfidf_random = lr_model.score(std_X_train, y_train)\n",
    "print(\"Train accuracy %f%%:\" % (train_acc_tfidf_random))"
   ]
  },
  {
   "cell_type": "code",
   "execution_count": 70,
   "metadata": {},
   "outputs": [
    {
     "name": "stdout",
     "output_type": "stream",
     "text": [
      "\n",
      "The accuracy of the logistic regression for c = 3.762734 is 81.33%\n"
     ]
    }
   ],
   "source": [
    "test_acc_tfidf_random = accuracy_score(y_test, pred) * 100\n",
    "print('\\nThe accuracy of the logistic regression for c = %f is %.2f%%' % (optimal_lambda_tfidf_random, test_acc_tfidf_random))"
   ]
  },
  {
   "cell_type": "code",
   "execution_count": 71,
   "metadata": {},
   "outputs": [
    {
     "data": {
      "text/plain": [
       "array([[1187,  418],\n",
       "       [ 142, 1253]], dtype=int64)"
      ]
     },
     "execution_count": 71,
     "metadata": {},
     "output_type": "execute_result"
    }
   ],
   "source": [
    "# Confusion Matrix\n",
    "from sklearn.metrics import confusion_matrix\n",
    "cm = confusion_matrix(y_test, pred)\n",
    "cm"
   ]
  },
  {
   "cell_type": "code",
   "execution_count": 72,
   "metadata": {},
   "outputs": [
    {
     "data": {
      "image/png": "[encoded data removed]",
      "text/plain": [
       "<Figure size 432x288 with 2 Axes>"
      ]
     },
     "metadata": {
      "needs_background": "light"
     },
     "output_type": "display_data"
    }
   ],
   "source": [
    "# plot confusion matrix to describe the performance of classifier.\n",
    "import seaborn as sns\n",
    "class_label = [\"negative\", \"positive\"]\n",
    "df_cm = pd.DataFrame(cm, index = class_label, columns = class_label)\n",
    "sns.heatmap(df_cm, annot = True, fmt = \"d\")\n",
    "plt.title(\"Confusiion Matrix\")\n",
    "plt.xlabel(\"Predicted Label\")\n",
    "plt.ylabel(\"True Label\")\n",
    "plt.show()"
   ]
  },
  {
   "cell_type": "code",
   "execution_count": 73,
   "metadata": {},
   "outputs": [
    {
     "name": "stdout",
     "output_type": "stream",
     "text": [
      "              precision    recall  f1-score   support\n",
      "\n",
      "           0       0.89      0.74      0.81      1605\n",
      "           1       0.75      0.90      0.82      1395\n",
      "\n",
      "    accuracy                           0.81      3000\n",
      "   macro avg       0.82      0.82      0.81      3000\n",
      "weighted avg       0.83      0.81      0.81      3000\n",
      "\n"
     ]
    }
   ],
   "source": [
    "# To show main classification report\n",
    "from sklearn.metrics import classification_report\n",
    "print(classification_report(y_test, pred))"
   ]
  },
  {
   "cell_type": "code",
   "execution_count": 74,
   "metadata": {},
   "outputs": [
    {
     "data": {
      "text/html": [
       "<div>\n",
       "<style scoped>\n",
       "    .dataframe tbody tr th:only-of-type {\n",
       "        vertical-align: middle;\n",
       "    }\n",
       "\n",
       "    .dataframe tbody tr th {\n",
       "        vertical-align: top;\n",
       "    }\n",
       "\n",
       "    .dataframe thead th {\n",
       "        text-align: right;\n",
       "    }\n",
       "</style>\n",
       "<table border=\"1\" class=\"dataframe\">\n",
       "  <thead>\n",
       "    <tr style=\"text-align: right;\">\n",
       "      <th></th>\n",
       "      <th>Model</th>\n",
       "      <th>Hyper Parameter(K) for random search</th>\n",
       "      <th>Train Error</th>\n",
       "      <th>Test Error</th>\n",
       "      <th>Accuracy</th>\n",
       "      <th>Train Accuracy</th>\n",
       "    </tr>\n",
       "  </thead>\n",
       "  <tbody>\n",
       "    <tr>\n",
       "      <th>0</th>\n",
       "      <td>Logistic Regression with TFIDF</td>\n",
       "      <td>3.762734</td>\n",
       "      <td>1.0</td>\n",
       "      <td>18.666667</td>\n",
       "      <td>81.333333</td>\n",
       "      <td>1.0</td>\n",
       "    </tr>\n",
       "  </tbody>\n",
       "</table>\n",
       "</div>"
      ],
      "text/plain": [
       "                            Model  Hyper Parameter(K) for random search  \\\n",
       "0  Logistic Regression with TFIDF                              3.762734   \n",
       "\n",
       "   Train Error  Test Error   Accuracy  Train Accuracy  \n",
       "0          1.0   18.666667  81.333333             1.0  "
      ]
     },
     "execution_count": 74,
     "metadata": {},
     "output_type": "execute_result"
    }
   ],
   "source": [
    "# model for knn with bag of word\n",
    "modelsgrid = pd.DataFrame({'Model': ['Logistic Regression with TFIDF'], 'Hyper Parameter(K) for random search': [optimal_lambda_tfidf_random], 'Train Error': [train_acc_tfidf_random], 'Test Error': [100 - test_acc_tfidf_random], 'Accuracy': [test_acc_tfidf_random ], 'Train Accuracy': [train_acc_tfidf_random ]}, columns = [\"Model\", \"Hyper Parameter(K) for random search\", \"Train Error\", \"Test Error\", \"Accuracy\" , \"Train Accuracy\"])\n",
    "modelsgrid.sort_values(by='Accuracy', ascending=False)\n"
   ]
  },
  {
   "cell_type": "code",
   "execution_count": 75,
   "metadata": {},
   "outputs": [
    {
     "name": "stdout",
     "output_type": "stream",
     "text": [
      "\n",
      "C value: 10\n",
      "Coefficient of each feature: [[-0.04368038 -0.04368038  0.06177821 ...  0.15079604 -0.08385803\n",
      "  -0.08385803]]\n",
      "Training accuracy: 100.000%\n",
      "Test accuracy: 85.033%\n",
      "Number of non-zero element:  182674\n",
      "\n",
      "C value: 1\n",
      "Coefficient of each feature: [[-0.01693831 -0.01693831  0.01764469 ...  0.04426715 -0.02509965\n",
      "  -0.02509965]]\n",
      "Training accuracy: 99.986%\n",
      "Test accuracy: 86.133%\n",
      "Number of non-zero element:  182674\n",
      "\n",
      "C value: 0.1\n",
      "Coefficient of each feature: [[-0.00366251 -0.00366251  0.00266066 ...  0.00912528 -0.00374337\n",
      "  -0.00374337]]\n",
      "Training accuracy: 99.414%\n",
      "Test accuracy: 84.533%\n",
      "Number of non-zero element:  182674\n"
     ]
    }
   ],
   "source": [
    "# Tried different value of c and finding features weight\n",
    "# More Sparsity (Fewer elements of W* being non-zero) by increasing Lambda (decreasing C)\n",
    "C_param = [10, 1, 0.1]\n",
    "\n",
    "for c in C_param:\n",
    "    clf = LogisticRegression(penalty = 'l2', C = c, class_weight = \"balanced\")\n",
    "    clf.fit(X_train, y_train)\n",
    "    print('\\nC value:', c)\n",
    "    print('Coefficient of each feature:', clf.coef_)\n",
    "    print('Training accuracy: %0.3f%%' %(clf.score(std_X_train, y_train) * 100))\n",
    "    print('Test accuracy: %0.3f%%' %(clf.score(std_x_test, y_test) * 100))\n",
    "    print(\"Number of non-zero element: \",np.count_nonzero(clf.coef_))"
   ]
  },
  {
   "cell_type": "markdown",
   "metadata": {},
   "source": [
    "# Checking for multicollinearity using pertubation test"
   ]
  },
  {
   "cell_type": "code",
   "execution_count": 76,
   "metadata": {},
   "outputs": [
    {
     "name": "stdout",
     "output_type": "stream",
     "text": [
      "Accuracy score: 84.73%\n",
      "11305\n"
     ]
    }
   ],
   "source": [
    "clf = LogisticRegression(penalty = 'l1', C = optimal_lambda_tfidf_grid, class_weight = \"balanced\" ,solver='liblinear')\n",
    "clf.fit(std_X_train, y_train)\n",
    "y_pred = clf.predict(std_x_test)\n",
    "print(\"Accuracy score: %.2f%%\" %(accuracy_score(y_test, y_pred) * 100))\n",
    "print(np.count_nonzero(clf.coef_))"
   ]
  },
  {
   "cell_type": "code",
   "execution_count": 77,
   "metadata": {},
   "outputs": [
    {
     "data": {
      "text/plain": [
       "(7000, 182674)"
      ]
     },
     "execution_count": 77,
     "metadata": {},
     "output_type": "execute_result"
    }
   ],
   "source": [
    "std_X_train.shape"
   ]
  },
  {
   "cell_type": "code",
   "execution_count": 78,
   "metadata": {},
   "outputs": [
    {
     "data": {
      "text/plain": [
       "11305"
      ]
     },
     "execution_count": 78,
     "metadata": {},
     "output_type": "execute_result"
    }
   ],
   "source": [
    "np.count_nonzero(clf.coef_)"
   ]
  },
  {
   "cell_type": "code",
   "execution_count": 79,
   "metadata": {},
   "outputs": [
    {
     "name": "stdout",
     "output_type": "stream",
     "text": [
      "[ 6.76085757e-04 -3.31644637e-03  2.03048865e-02  2.44770318e-02\n",
      "  7.50253453e-02 -4.19811117e-03  7.66901670e-03 -2.85469702e-04\n",
      "  1.60074497e-02 -2.82603230e-03  1.95213239e-03  3.64906300e-04\n",
      "  1.64987013e-06  3.26944277e-02  1.65077868e-02  1.82014981e-03\n",
      "  1.59860008e-01 -2.58591668e-04  6.67361382e-03  1.30474941e-02]\n"
     ]
    }
   ],
   "source": [
    "from scipy.sparse import find\n",
    "\n",
    "# Before adding noise in data\n",
    "cf = clf.coef_[0]\n",
    "w_coef1 = cf[np.nonzero(cf)]\n",
    "print(w_coef1[:20])"
   ]
  },
  {
   "cell_type": "code",
   "execution_count": 80,
   "metadata": {},
   "outputs": [
    {
     "data": {
      "text/plain": [
       "(7000, 182674)"
      ]
     },
     "execution_count": 80,
     "metadata": {},
     "output_type": "execute_result"
    }
   ],
   "source": [
    "# Generate random normal variable as a noise \n",
    "std_X_train_pert = std_X_train\n",
    "noise = np.random.normal(0, 0.001, size = (std_X_train_pert[np.nonzero(std_X_train_pert)].size,))\n",
    "#print(noise.shape)\n",
    "np.nonzero(std_X_train_pert)\n",
    "std_X_train_pert[np.nonzero(std_X_train_pert)] = noise + std_X_train_pert[np.nonzero(std_X_train_pert)]\n",
    "std_X_train_pert.shape"
   ]
  },
  {
   "cell_type": "code",
   "execution_count": 81,
   "metadata": {},
   "outputs": [
    {
     "data": {
      "text/plain": [
       "(7000, 182674)"
      ]
     },
     "execution_count": 81,
     "metadata": {},
     "output_type": "execute_result"
    }
   ],
   "source": [
    "std_X_train_pert.shape"
   ]
  },
  {
   "cell_type": "code",
   "execution_count": 82,
   "metadata": {},
   "outputs": [
    {
     "name": "stdout",
     "output_type": "stream",
     "text": [
      "Accuracy score: 81.30%\n",
      "182674\n"
     ]
    }
   ],
   "source": [
    "clf = LogisticRegression(penalty = 'l2', C = optimal_lambda_tfidf_grid, class_weight = \"balanced\")\n",
    "clf.fit(std_X_train_pert, y_train)\n",
    "y_pred = clf.predict(std_x_test)\n",
    "print(\"Accuracy score: %0.2f%%\" %(accuracy_score(y_test, y_pred) * 100))\n",
    "print(np.count_nonzero(clf.coef_))"
   ]
  },
  {
   "cell_type": "code",
   "execution_count": 83,
   "metadata": {},
   "outputs": [
    {
     "data": {
      "text/plain": [
       "182674"
      ]
     },
     "execution_count": 83,
     "metadata": {},
     "output_type": "execute_result"
    }
   ],
   "source": [
    "np.count_nonzero(clf.coef_)"
   ]
  },
  {
   "cell_type": "code",
   "execution_count": 84,
   "metadata": {},
   "outputs": [
    {
     "name": "stdout",
     "output_type": "stream",
     "text": [
      "[-0.00160401 -0.00160403  0.00119261  0.00119261 -0.0087385  -0.00873857\n",
      " -0.01210846 -0.00078588 -0.0042517   0.00281643  0.00161061  0.00161061\n",
      " -0.00157237 -0.00062195 -0.00144883  0.0012489  -0.00049938  0.00153296\n",
      " -0.00481822 -0.00209584]\n"
     ]
    }
   ],
   "source": [
    "cf = clf.coef_[0]\n",
    "w_coef2 = cf[np.nonzero(cf)]\n",
    "print(w_coef2[:20])"
   ]
  },
  {
   "cell_type": "code",
   "execution_count": 85,
   "metadata": {},
   "outputs": [
    {
     "name": "stdout",
     "output_type": "stream",
     "text": [
      "No of weights that changes more than 40% is: 10560\n"
     ]
    }
   ],
   "source": [
    "# Calculate %increase \n",
    "cnt = 0\n",
    "for w1, w2 in zip(w_coef1, w_coef2):\n",
    "    inc = abs(w1 - w2)/abs(w1) * 100\n",
    "    if inc > 40:\n",
    "        cnt += 1\n",
    "print(\"No of weights that changes more than 40% is:\", cnt)"
   ]
  },
  {
   "cell_type": "code",
   "execution_count": 86,
   "metadata": {},
   "outputs": [
    {
     "name": "stdout",
     "output_type": "stream",
     "text": [
      "*****Top 10 positive*****\n",
      "           Word  Coefficient\n",
      "71544     great     0.143126\n",
      "93954      love     0.113829\n",
      "14297      best     0.093115\n",
      "42495    delici     0.078552\n",
      "117607  perfect     0.069257\n",
      "57664   favorit     0.063202\n",
      "59277      find     0.059077\n",
      "161834    thank     0.058262\n",
      "69561      good     0.054345\n",
      "106606     nice     0.053211\n",
      "*****Top 10 negative*****\n",
      "              Word  Coefficient\n",
      "77618      horribl    -0.058025\n",
      "159047   tast like    -0.058615\n",
      "102544       money    -0.060819\n",
      "158608        tast    -0.061784\n",
      "175326  wast money    -0.063306\n",
      "180216       worst    -0.063472\n",
      "175279        wast    -0.065159\n",
      "10564          bad    -0.068718\n",
      "153255   store per    -0.071375\n",
      "45133   disappoint    -0.099044\n"
     ]
    }
   ],
   "source": [
    "# Features importance \n",
    "\n",
    "features = tf_idf_vect.get_feature_names()\n",
    "coef = clf.coef_[0]\n",
    "coeff_df = pd.DataFrame({'Word' : features, 'Coefficient' : coef})\n",
    "coeff_df = coeff_df.sort_values('Coefficient', ascending = 0)\n",
    "print('*****Top 10 positive*****')\n",
    "print(coeff_df.head(10))\n",
    "print('*****Top 10 negative*****')\n",
    "print(coeff_df.tail(10))"
   ]
  },
  {
   "cell_type": "markdown",
   "metadata": {},
   "source": [
    "# Word2vec"
   ]
  },
  {
   "cell_type": "code",
   "execution_count": 87,
   "metadata": {},
   "outputs": [
    {
     "data": {
      "text/plain": [
       "(10000,)"
      ]
     },
     "execution_count": 87,
     "metadata": {},
     "output_type": "execute_result"
    }
   ],
   "source": [
    "# data\n",
    "X = final_10k[\"Text\"]\n",
    "X.shape"
   ]
  },
  {
   "cell_type": "code",
   "execution_count": 88,
   "metadata": {},
   "outputs": [
    {
     "data": {
      "text/plain": [
       "(10000,)"
      ]
     },
     "execution_count": 88,
     "metadata": {},
     "output_type": "execute_result"
    }
   ],
   "source": [
    "# Target/class-label\n",
    "y = final_10k[\"Score\"]\n",
    "y.shape"
   ]
  },
  {
   "cell_type": "code",
   "execution_count": 89,
   "metadata": {},
   "outputs": [
    {
     "name": "stdout",
     "output_type": "stream",
     "text": [
      "(7000,) (3000,) (7000,) (3000,)\n"
     ]
    }
   ],
   "source": [
    "# Split data\n",
    "X_train, x_test, y_train, y_test = train_test_split(X, y, test_size = 0.3, random_state = 42, shuffle = False)\n",
    "print(X_train.shape, x_test.shape, y_train.shape, y_test.shape)"
   ]
  },
  {
   "cell_type": "code",
   "execution_count": 90,
   "metadata": {},
   "outputs": [],
   "source": [
    "import re\n",
    "def cleanhtml(sentence): #function to clean the word of any html-tags\n",
    "    cleanr = re.compile('<.*?>')\n",
    "    cleantext = re.sub(cleanr, ' ', sentence)\n",
    "    return cleantext\n",
    "def cleanpunc(sentence): #function to clean the word of any punctuation or special characters\n",
    "    cleaned = re.sub(r'[?|!|\\'|\"|#]',r'',sentence)\n",
    "    cleaned = re.sub(r'[.|,|)|(|\\|/]',r' ',cleaned)\n",
    "    return  cleaned"
   ]
  },
  {
   "cell_type": "code",
   "execution_count": 91,
   "metadata": {},
   "outputs": [],
   "source": [
    "# Train your own Word2Vec model using your own train text corpus\n",
    "import gensim\n",
    "list_of_sent=[]\n",
    "for sent in X_train:\n",
    "    filtered_sentence=[]\n",
    "    sent=cleanhtml(sent)\n",
    "    for w in sent.split():\n",
    "        for cleaned_words in cleanpunc(w).split():\n",
    "            if(cleaned_words.isalpha()):    \n",
    "                filtered_sentence.append(cleaned_words.lower())\n",
    "            else:\n",
    "                continue \n",
    "    list_of_sent.append(filtered_sentence)"
   ]
  },
  {
   "cell_type": "code",
   "execution_count": 92,
   "metadata": {},
   "outputs": [],
   "source": [
    "w2v_model_train = gensim.models.Word2Vec(list_of_sent, min_count = 5, size = 50, workers = 4)"
   ]
  },
  {
   "cell_type": "code",
   "execution_count": 93,
   "metadata": {},
   "outputs": [
    {
     "data": {
      "text/plain": [
       "[('enjoy', 0.7508183121681213),\n",
       " ('awful', 0.7505766153335571),\n",
       " ('prefer', 0.7334407567977905),\n",
       " ('think', 0.7287331819534302),\n",
       " ('real', 0.7171494960784912),\n",
       " ('love', 0.6813877820968628),\n",
       " ('care', 0.6800504326820374),\n",
       " ('spicy', 0.6693360805511475),\n",
       " ('bitter', 0.6664899587631226),\n",
       " ('smell', 0.6663146615028381)]"
      ]
     },
     "execution_count": 93,
     "metadata": {},
     "output_type": "execute_result"
    }
   ],
   "source": [
    "w2v_model_train.wv.most_similar('like')"
   ]
  },
  {
   "cell_type": "code",
   "execution_count": 94,
   "metadata": {},
   "outputs": [],
   "source": [
    "w2v_train = w2v_model_train[w2v_model_train.wv.vocab]"
   ]
  },
  {
   "cell_type": "code",
   "execution_count": 95,
   "metadata": {},
   "outputs": [
    {
     "data": {
      "text/plain": [
       "(5334, 50)"
      ]
     },
     "execution_count": 95,
     "metadata": {},
     "output_type": "execute_result"
    }
   ],
   "source": [
    "w2v_train.shape"
   ]
  },
  {
   "cell_type": "code",
   "execution_count": 96,
   "metadata": {},
   "outputs": [],
   "source": [
    "# Train your own Word2Vec model using your own test text corpus\n",
    "import gensim\n",
    "list_of_sent_test = []\n",
    "for sent in x_test:\n",
    "    filtered_sentence=[]\n",
    "    sent=cleanhtml(sent)\n",
    "    for w in sent.split():\n",
    "        for cleaned_words in cleanpunc(w).split():\n",
    "            if(cleaned_words.isalpha()):    \n",
    "                filtered_sentence.append(cleaned_words.lower())\n",
    "            else:\n",
    "                continue \n",
    "    list_of_sent_test.append(filtered_sentence)"
   ]
  },
  {
   "cell_type": "code",
   "execution_count": 97,
   "metadata": {},
   "outputs": [],
   "source": [
    "w2v_model_test = gensim.models.Word2Vec(list_of_sent_test, min_count = 5, size = 50, workers = 4)"
   ]
  },
  {
   "cell_type": "code",
   "execution_count": 98,
   "metadata": {},
   "outputs": [
    {
     "data": {
      "text/plain": [
       "[('really', 0.965898334980011),\n",
       " ('taste', 0.9353522062301636),\n",
       " ('but', 0.9323341846466064),\n",
       " ('tastes', 0.9300202131271362),\n",
       " ('too', 0.9268689155578613),\n",
       " ('its', 0.9230712056159973),\n",
       " ('sweet', 0.9190922975540161),\n",
       " ('strong', 0.9186704754829407),\n",
       " ('good', 0.9160221815109253),\n",
       " ('just', 0.9122980833053589)]"
      ]
     },
     "execution_count": 98,
     "metadata": {},
     "output_type": "execute_result"
    }
   ],
   "source": [
    "w2v_model_test.wv.most_similar('like')"
   ]
  },
  {
   "cell_type": "code",
   "execution_count": 99,
   "metadata": {},
   "outputs": [],
   "source": [
    "w2v_test = w2v_model_test[w2v_model_test.wv.vocab]"
   ]
  },
  {
   "cell_type": "code",
   "execution_count": 100,
   "metadata": {},
   "outputs": [
    {
     "data": {
      "text/plain": [
       "(3278, 50)"
      ]
     },
     "execution_count": 100,
     "metadata": {},
     "output_type": "execute_result"
    }
   ],
   "source": [
    "w2v_test.shape"
   ]
  },
  {
   "cell_type": "markdown",
   "metadata": {},
   "source": [
    "# Average word2vec"
   ]
  },
  {
   "cell_type": "code",
   "execution_count": 101,
   "metadata": {},
   "outputs": [
    {
     "name": "stdout",
     "output_type": "stream",
     "text": [
      "7000\n",
      "50\n"
     ]
    }
   ],
   "source": [
    "# average Word2Vec\n",
    "# compute average word2vec for each review.\n",
    "sent_vectors = []; # the avg-w2v for each sentence/review is stored in this list\n",
    "for sent in list_of_sent: # for each review/sentence\n",
    "    sent_vec = np.zeros(50) # as word vectors are of zero length\n",
    "    cnt_words =0; # num of words with a valid vector in the sentence/review\n",
    "    for word in sent: # for each word in a review/sentence\n",
    "        try:\n",
    "            vec = w2v_model_train.wv[word]\n",
    "            sent_vec += vec\n",
    "            cnt_words += 1\n",
    "        except:\n",
    "            pass\n",
    "    sent_vec /= cnt_words\n",
    "    sent_vectors.append(sent_vec)\n",
    "print(len(sent_vectors))\n",
    "print(len(sent_vectors[0]))"
   ]
  },
  {
   "cell_type": "code",
   "execution_count": 102,
   "metadata": {},
   "outputs": [
    {
     "name": "stdout",
     "output_type": "stream",
     "text": [
      "3000\n",
      "50\n"
     ]
    }
   ],
   "source": [
    "# average Word2Vec\n",
    "# compute average word2vec for each review.\n",
    "sent_vectors_test = []; # the avg-w2v for each sentence/review is stored in this list\n",
    "for sent in list_of_sent_test: # for each review/sentence\n",
    "    sent_vec = np.zeros(50) # as word vectors are of zero length\n",
    "    cnt_words =0; # num of words with a valid vector in the sentence/review\n",
    "    for word in sent: # for each word in a review/sentence\n",
    "        try:\n",
    "            vec = w2v_model_test.wv[word]\n",
    "            sent_vec += vec\n",
    "            cnt_words += 1\n",
    "        except:\n",
    "            pass\n",
    "    sent_vec /= cnt_words\n",
    "    sent_vectors_test.append(sent_vec)\n",
    "print(len(sent_vectors_test))\n",
    "print(len(sent_vectors_test[0]))"
   ]
  },
  {
   "cell_type": "code",
   "execution_count": 103,
   "metadata": {},
   "outputs": [],
   "source": [
    "X_train = sent_vectors\n",
    "#X_train"
   ]
  },
  {
   "cell_type": "code",
   "execution_count": 104,
   "metadata": {},
   "outputs": [],
   "source": [
    "# Standardization \n",
    "from sklearn.preprocessing import StandardScaler\n",
    "scaler = StandardScaler(with_mean = False)\n",
    "std_X_train = scaler.fit_transform(X_train)"
   ]
  },
  {
   "cell_type": "code",
   "execution_count": 105,
   "metadata": {},
   "outputs": [],
   "source": [
    "x_test = sent_vectors_test\n",
    "#x_test"
   ]
  },
  {
   "cell_type": "code",
   "execution_count": 106,
   "metadata": {},
   "outputs": [],
   "source": [
    "scaler = StandardScaler(with_mean = False)\n",
    "std_x_test = scaler.fit_transform(x_test)"
   ]
  },
  {
   "cell_type": "code",
   "execution_count": 107,
   "metadata": {},
   "outputs": [
    {
     "name": "stdout",
     "output_type": "stream",
     "text": [
      "\n",
      "**********GridSearchCV**********\n",
      "\n",
      "\n",
      "Optimal C: 10000\n",
      "\n",
      "Best penalty: l2\n"
     ]
    },
    {
     "data": {
      "image/png": "[encoded data removed]",
      "text/plain": [
       "<Figure size 432x288 with 1 Axes>"
      ]
     },
     "metadata": {
      "needs_background": "light"
     },
     "output_type": "display_data"
    },
    {
     "data": {
      "text/plain": [
       "10000"
      ]
     },
     "execution_count": 107,
     "metadata": {},
     "output_type": "execute_result"
    }
   ],
   "source": [
    "# To choose optimal_alpha using nested cross validation\n",
    "#from sklearn.model_selection import KFold\n",
    "#from sklearn.model_selection import KFold\n",
    "optimal_lambda_avgw2v_grid = lr_grid_plot(std_X_train, y_train)\n",
    "optimal_lambda_avgw2v_grid"
   ]
  },
  {
   "cell_type": "code",
   "execution_count": 108,
   "metadata": {},
   "outputs": [],
   "source": [
    "# instantiate learning model \n",
    "lr_model =  LogisticRegression(penalty = 'l2', C = optimal_lambda_avgw2v_grid, class_weight = \"balanced\")\n",
    "# fitting the model\n",
    "lr_model.fit(std_X_train, y_train)\n",
    "# predict the response\n",
    "pred = lr_model.predict(std_x_test)\n",
    "# predict probablistic response\n",
    "pred_prob = lr_model.predict_proba(std_x_test)"
   ]
  },
  {
   "cell_type": "code",
   "execution_count": 109,
   "metadata": {},
   "outputs": [
    {
     "name": "stdout",
     "output_type": "stream",
     "text": [
      "Average precision score: 0.5042590625325949\n",
      "F1_score: 0.0014326647564469916\n",
      "Auc score: 0.5036330711534873\n"
     ]
    },
    {
     "data": {
      "image/png": "[encoded data removed]",
      "text/plain": [
       "<Figure size 432x288 with 1 Axes>"
      ]
     },
     "metadata": {
      "needs_background": "light"
     },
     "output_type": "display_data"
    }
   ],
   "source": [
    "# F1-score, auc, precision_recall_curve\n",
    "from sklearn.metrics import f1_score, auc, precision_recall_curve, average_precision_score\n",
    "from sklearn.metrics import auc\n",
    "f1 = f1_score(y_test, pred)\n",
    "precision, recall, thresholds = precision_recall_curve(y_test, pred_prob[:,1])\n",
    "auc = auc(recall, precision)\n",
    "avg_precision = average_precision_score(y_test, pred_prob[:,1])\n",
    "print(\"Average precision score:\", avg_precision)\n",
    "print(\"F1_score:\", f1)\n",
    "print(\"Auc score:\",auc)\n",
    "plot_precision_recall_curve(recall, precision)"
   ]
  },
  {
   "cell_type": "code",
   "execution_count": 110,
   "metadata": {},
   "outputs": [
    {
     "name": "stdout",
     "output_type": "stream",
     "text": [
      "Train accuracy: 0.7692857142857142\n"
     ]
    }
   ],
   "source": [
    "train_acc_avgw2v_grid = lr_model.score(std_X_train, y_train)\n",
    "print(\"Train accuracy:\", train_acc_avgw2v_grid)"
   ]
  },
  {
   "cell_type": "code",
   "execution_count": 111,
   "metadata": {},
   "outputs": [
    {
     "name": "stdout",
     "output_type": "stream",
     "text": [
      "\n",
      "The accuracy of the logistic regression for c = 10000.000000 is 53.53%\n"
     ]
    }
   ],
   "source": [
    "test_acc_avgw2v_grid = accuracy_score(y_test, pred) * 100\n",
    "print('\\nThe accuracy of the logistic regression for c = %f is %.2f%%' % (optimal_lambda_avgw2v_grid, test_acc_avgw2v_grid))"
   ]
  },
  {
   "cell_type": "code",
   "execution_count": 112,
   "metadata": {},
   "outputs": [
    {
     "data": {
      "text/plain": [
       "array([[1605,    0],\n",
       "       [1394,    1]], dtype=int64)"
      ]
     },
     "execution_count": 112,
     "metadata": {},
     "output_type": "execute_result"
    }
   ],
   "source": [
    "# Confusion Matrix\n",
    "from sklearn.metrics import confusion_matrix\n",
    "cm = confusion_matrix(y_test, pred)\n",
    "cm"
   ]
  },
  {
   "cell_type": "code",
   "execution_count": 113,
   "metadata": {},
   "outputs": [
    {
     "data": {
      "image/png": "[encoded data removed]",
      "text/plain": [
       "<Figure size 432x288 with 2 Axes>"
      ]
     },
     "metadata": {
      "needs_background": "light"
     },
     "output_type": "display_data"
    }
   ],
   "source": [
    "# plot confusion matrix to describe the performance of classifier.\n",
    "import seaborn as sns\n",
    "class_label = [\"negative\", \"positive\"]\n",
    "df_cm = pd.DataFrame(cm, index = class_label, columns = class_label)\n",
    "sns.heatmap(df_cm, annot = True, fmt = \"d\")\n",
    "plt.title(\"Confusiion Matrix\")\n",
    "plt.xlabel(\"Predicted Label\")\n",
    "plt.ylabel(\"True Label\")\n",
    "plt.show()"
   ]
  },
  {
   "cell_type": "code",
   "execution_count": 114,
   "metadata": {},
   "outputs": [
    {
     "name": "stdout",
     "output_type": "stream",
     "text": [
      "              precision    recall  f1-score   support\n",
      "\n",
      "           0       0.54      1.00      0.70      1605\n",
      "           1       1.00      0.00      0.00      1395\n",
      "\n",
      "    accuracy                           0.54      3000\n",
      "   macro avg       0.77      0.50      0.35      3000\n",
      "weighted avg       0.75      0.54      0.37      3000\n",
      "\n"
     ]
    }
   ],
   "source": [
    "# To show main classification report\n",
    "from sklearn.metrics import classification_report\n",
    "print(classification_report(y_test, pred))"
   ]
  },
  {
   "cell_type": "code",
   "execution_count": 115,
   "metadata": {},
   "outputs": [
    {
     "data": {
      "text/html": [
       "<div>\n",
       "<style scoped>\n",
       "    .dataframe tbody tr th:only-of-type {\n",
       "        vertical-align: middle;\n",
       "    }\n",
       "\n",
       "    .dataframe tbody tr th {\n",
       "        vertical-align: top;\n",
       "    }\n",
       "\n",
       "    .dataframe thead th {\n",
       "        text-align: right;\n",
       "    }\n",
       "</style>\n",
       "<table border=\"1\" class=\"dataframe\">\n",
       "  <thead>\n",
       "    <tr style=\"text-align: right;\">\n",
       "      <th></th>\n",
       "      <th>Model</th>\n",
       "      <th>Hyper Parameter(K) for grid  search</th>\n",
       "      <th>Train Error</th>\n",
       "      <th>Test Error</th>\n",
       "      <th>Accuracy</th>\n",
       "      <th>Train Accuracy</th>\n",
       "    </tr>\n",
       "  </thead>\n",
       "  <tbody>\n",
       "    <tr>\n",
       "      <th>0</th>\n",
       "      <td>Logistic Regression with AvgW2V</td>\n",
       "      <td>NaN</td>\n",
       "      <td>0.769286</td>\n",
       "      <td>46.466667</td>\n",
       "      <td>53.533333</td>\n",
       "      <td>0.769286</td>\n",
       "    </tr>\n",
       "  </tbody>\n",
       "</table>\n",
       "</div>"
      ],
      "text/plain": [
       "                             Model Hyper Parameter(K) for grid  search  \\\n",
       "0  Logistic Regression with AvgW2V                                 NaN   \n",
       "\n",
       "   Train Error  Test Error   Accuracy  Train Accuracy  \n",
       "0     0.769286   46.466667  53.533333        0.769286  "
      ]
     },
     "execution_count": 115,
     "metadata": {},
     "output_type": "execute_result"
    }
   ],
   "source": [
    "# model for knn with bag of word\n",
    "modelsgrid = pd.DataFrame({'Model': ['Logistic Regression with AvgW2V'], 'Hyper Parameter(K) for random search': [optimal_lambda_avgw2v_grid], 'Train Error': [train_acc_avgw2v_grid], 'Test Error': [100 - test_acc_avgw2v_grid], 'Accuracy': [test_acc_avgw2v_grid ], 'Train Accuracy': [train_acc_avgw2v_grid ]}, columns = [\"Model\", \"Hyper Parameter(K) for grid  search\", \"Train Error\", \"Test Error\", \"Accuracy\" , \"Train Accuracy\"])\n",
    "modelsgrid.sort_values(by='Accuracy', ascending=False)\n"
   ]
  },
  {
   "cell_type": "markdown",
   "metadata": {},
   "source": [
    "now we using random search and plot graph and acc...."
   ]
  },
  {
   "cell_type": "code",
   "execution_count": 116,
   "metadata": {},
   "outputs": [
    {
     "name": "stdout",
     "output_type": "stream",
     "text": [
      "\n",
      "\n",
      "**********RandomizedSearchCV**********\n",
      "\n",
      "\n",
      "Optimal C: 1.6070942146988516\n",
      "\n",
      "Best penalty: l1\n"
     ]
    },
    {
     "data": {
      "image/png": "[encoded data removed]",
      "text/plain": [
       "<Figure size 432x288 with 1 Axes>"
      ]
     },
     "metadata": {
      "needs_background": "light"
     },
     "output_type": "display_data"
    },
    {
     "data": {
      "text/plain": [
       "1.6070942146988516"
      ]
     },
     "execution_count": 116,
     "metadata": {},
     "output_type": "execute_result"
    }
   ],
   "source": [
    "optimal_lambda_avgw2v_random = lr_random_plot(std_X_train, y_train)\n",
    "optimal_lambda_avgw2v_random"
   ]
  },
  {
   "cell_type": "code",
   "execution_count": 139,
   "metadata": {},
   "outputs": [],
   "source": [
    "# instantiate learning model \n",
    "lr_model =  LogisticRegression(penalty = 'l1', C = optimal_lambda_avgw2v_random, class_weight = \"balanced\" ,solver = 'liblinear')\n",
    "# fitting the model\n",
    "lr_model.fit(std_X_train, y_train)\n",
    "# predict the response\n",
    "pred = lr_model.predict(std_x_test)\n",
    "# predict probablistic response\n",
    "pred_prob = lr_model.predict_proba(std_x_test)"
   ]
  },
  {
   "cell_type": "code",
   "execution_count": 140,
   "metadata": {},
   "outputs": [
    {
     "name": "stdout",
     "output_type": "stream",
     "text": [
      "Average precision score: 0.5433324155283785\n",
      "F1_score: 0.01276595744680851\n",
      "Auc score: 0.5427478141801345\n"
     ]
    },
    {
     "data": {
      "image/png": "[encoded data removed]",
      "text/plain": [
       "<Figure size 432x288 with 1 Axes>"
      ]
     },
     "metadata": {
      "needs_background": "light"
     },
     "output_type": "display_data"
    }
   ],
   "source": [
    "# F1-score, auc, precision_recall_curve\n",
    "from sklearn.metrics import f1_score, auc, precision_recall_curve, average_precision_score\n",
    "from sklearn.metrics import auc\n",
    "f1 = f1_score(y_test, pred)\n",
    "precision, recall, thresholds = precision_recall_curve(y_test, pred_prob[:,1])\n",
    "auc = auc(recall, precision)\n",
    "avg_precision = average_precision_score(y_test, pred_prob[:,1])\n",
    "print(\"Average precision score:\", avg_precision)\n",
    "print(\"F1_score:\", f1)\n",
    "print(\"Auc score:\", auc)\n",
    "plot_precision_recall_curve(recall, precision)"
   ]
  },
  {
   "cell_type": "code",
   "execution_count": 141,
   "metadata": {},
   "outputs": [
    {
     "name": "stdout",
     "output_type": "stream",
     "text": [
      "Train accuracy 0.7688571428571429\n"
     ]
    }
   ],
   "source": [
    "# Accuracy on train data\n",
    "train_acc_avgw2v_random = lr_model.score(std_X_train, y_train)\n",
    "print(\"Train accuracy\", train_acc_avgw2v_random)"
   ]
  },
  {
   "cell_type": "code",
   "execution_count": 142,
   "metadata": {},
   "outputs": [
    {
     "name": "stdout",
     "output_type": "stream",
     "text": [
      "\n",
      "The accuracy of the logistic regression for c = 1.607094 is 53.60%\n"
     ]
    }
   ],
   "source": [
    "test_acc_avgw2v_random = accuracy_score(y_test, pred) * 100\n",
    "print('\\nThe accuracy of the logistic regression for c = %f is %.2f%%' % (optimal_lambda_avgw2v_random, test_acc_avgw2v_random))"
   ]
  },
  {
   "cell_type": "code",
   "execution_count": 143,
   "metadata": {},
   "outputs": [
    {
     "data": {
      "text/plain": [
       "array([[1599,    6],\n",
       "       [1386,    9]], dtype=int64)"
      ]
     },
     "execution_count": 143,
     "metadata": {},
     "output_type": "execute_result"
    }
   ],
   "source": [
    "# Confusion Matrix\n",
    "from sklearn.metrics import confusion_matrix\n",
    "cm = confusion_matrix(y_test, pred)\n",
    "cm"
   ]
  },
  {
   "cell_type": "code",
   "execution_count": 144,
   "metadata": {},
   "outputs": [
    {
     "data": {
      "image/png": "[encoded data removed]",
      "text/plain": [
       "<Figure size 432x288 with 2 Axes>"
      ]
     },
     "metadata": {
      "needs_background": "light"
     },
     "output_type": "display_data"
    }
   ],
   "source": [
    "# plot confusion matrix to describe the performance of classifier.\n",
    "import seaborn as sns\n",
    "class_label = [\"negative\", \"positive\"]\n",
    "df_cm = pd.DataFrame(cm, index = class_label, columns = class_label)\n",
    "sns.heatmap(df_cm, annot = True, fmt = \"d\")\n",
    "plt.title(\"Confusiion Matrix\")\n",
    "plt.xlabel(\"Predicted Label\")\n",
    "plt.ylabel(\"True Label\")\n",
    "plt.show()"
   ]
  },
  {
   "cell_type": "code",
   "execution_count": 145,
   "metadata": {},
   "outputs": [
    {
     "name": "stdout",
     "output_type": "stream",
     "text": [
      "              precision    recall  f1-score   support\n",
      "\n",
      "           0       0.54      1.00      0.70      1605\n",
      "           1       0.60      0.01      0.01      1395\n",
      "\n",
      "    accuracy                           0.54      3000\n",
      "   macro avg       0.57      0.50      0.35      3000\n",
      "weighted avg       0.57      0.54      0.38      3000\n",
      "\n"
     ]
    }
   ],
   "source": [
    "# To show main classification report\n",
    "from sklearn.metrics import classification_report\n",
    "print(classification_report(y_test, pred))"
   ]
  },
  {
   "cell_type": "code",
   "execution_count": 146,
   "metadata": {},
   "outputs": [
    {
     "data": {
      "text/html": [
       "<div>\n",
       "<style scoped>\n",
       "    .dataframe tbody tr th:only-of-type {\n",
       "        vertical-align: middle;\n",
       "    }\n",
       "\n",
       "    .dataframe tbody tr th {\n",
       "        vertical-align: top;\n",
       "    }\n",
       "\n",
       "    .dataframe thead th {\n",
       "        text-align: right;\n",
       "    }\n",
       "</style>\n",
       "<table border=\"1\" class=\"dataframe\">\n",
       "  <thead>\n",
       "    <tr style=\"text-align: right;\">\n",
       "      <th></th>\n",
       "      <th>Model</th>\n",
       "      <th>Hyper Parameter(K) for random  search</th>\n",
       "      <th>Train Error</th>\n",
       "      <th>Test Error</th>\n",
       "      <th>Accuracy</th>\n",
       "      <th>Train Accuracy</th>\n",
       "    </tr>\n",
       "  </thead>\n",
       "  <tbody>\n",
       "    <tr>\n",
       "      <th>0</th>\n",
       "      <td>Logistic Regression with AvgW2V</td>\n",
       "      <td>NaN</td>\n",
       "      <td>0.768857</td>\n",
       "      <td>46.4</td>\n",
       "      <td>53.6</td>\n",
       "      <td>0.768857</td>\n",
       "    </tr>\n",
       "  </tbody>\n",
       "</table>\n",
       "</div>"
      ],
      "text/plain": [
       "                             Model Hyper Parameter(K) for random  search  \\\n",
       "0  Logistic Regression with AvgW2V                                   NaN   \n",
       "\n",
       "   Train Error  Test Error  Accuracy  Train Accuracy  \n",
       "0     0.768857        46.4      53.6        0.768857  "
      ]
     },
     "execution_count": 146,
     "metadata": {},
     "output_type": "execute_result"
    }
   ],
   "source": [
    "# model for knn with bag of word\n",
    "modelsgrid = pd.DataFrame({'Model': ['Logistic Regression with AvgW2V'], 'Hyper Parameter(K) for random search': [optimal_lambda_avgw2v_random], 'Train Error': [train_acc_avgw2v_random], 'Test Error': [100 - test_acc_avgw2v_random], 'Accuracy': [test_acc_avgw2v_random ], 'Train Accuracy': [train_acc_avgw2v_random ]}, columns = [\"Model\", \"Hyper Parameter(K) for random  search\", \"Train Error\", \"Test Error\", \"Accuracy\" , \"Train Accuracy\"])\n",
    "modelsgrid.sort_values(by='Accuracy', ascending=False)\n"
   ]
  },
  {
   "cell_type": "code",
   "execution_count": 147,
   "metadata": {},
   "outputs": [
    {
     "name": "stdout",
     "output_type": "stream",
     "text": [
      "\n",
      "C value: 10\n",
      "Coefficient of each feature: [[ 0.00848383 -0.60620405  1.03515862  0.65533589  0.15648461  0.92228062\n",
      "  -0.80744759  1.1031188   0.89810162 -0.19519257  1.4640739  -0.18921371\n",
      "  -0.8809253  -0.04976299 -0.71912855  0.50439212  0.02823494  1.6211696\n",
      "  -0.29881907  0.5872598   0.65919896 -0.38554542  0.85800776  0.30177536\n",
      "   1.01169688 -0.66809725  0.7187686  -1.23946215 -2.04346936  1.19840973\n",
      "   1.33585381  0.41922118 -0.06542473  0.70289115  0.99010327 -0.84115766\n",
      "   1.24764557  0.06610112  1.53750591  0.60078048  0.85613074  2.45059312\n",
      "  -1.89752744 -0.58834554 -0.7994345   1.42071602 -1.15433816 -0.70371335\n",
      "   0.60259525 -2.26080106]]\n",
      "Training accuracy: 76.986%\n",
      "Test accuracy: 53.533%\n",
      "Number of non-zero element:  50\n",
      "\n",
      "C value: 1\n",
      "Coefficient of each feature: [[-0.14852949 -0.60071765  0.94392053  0.5977646   0.23205469  0.93091475\n",
      "  -0.67484903  0.97730889  0.71760508 -0.04860338  1.30032793 -0.1285786\n",
      "  -0.80624824 -0.04279967 -0.69409275  0.50268315  0.0992149   1.46508644\n",
      "  -0.25861483  0.53425058  0.5946882  -0.23269133  0.80153605  0.17538513\n",
      "   0.89613075 -0.52705112  0.63012508 -1.01598484 -1.8554434   1.05398022\n",
      "   1.19630965  0.42254667  0.13822744  0.57415096  0.91861006 -0.82383881\n",
      "   1.18874653  0.00982251  1.34535577  0.51260351  0.64856532  2.31153704\n",
      "  -1.66630483 -0.47069547 -0.59059848  1.30523842 -1.01096196 -0.66522976\n",
      "   0.46233022 -1.86267324]]\n",
      "Training accuracy: 77.071%\n",
      "Test accuracy: 53.533%\n",
      "Number of non-zero element:  50\n",
      "\n",
      "C value: 0.1\n",
      "Coefficient of each feature: [[ 0.18388688 -0.17834693  0.70158001  0.4267068   0.14843098  0.33002117\n",
      "  -0.0943162   0.43169275  0.33506823  0.24414406  0.78550758  0.13229038\n",
      "  -0.45501429 -0.28125742 -0.44434362  0.37831327  0.2747472   0.64837347\n",
      "  -0.33101405  0.48612897  0.65337083  0.20689256  0.40104046  0.22737764\n",
      "  -0.06066657  0.17716893  0.2810576  -0.43501044 -1.09025884  0.44747505\n",
      "   0.82231954  0.10556307  0.2382129   0.27640862  0.66220656 -0.40792284\n",
      "   0.55920975  0.10873789  0.71574016  0.28919462  0.51700061  1.50205843\n",
      "  -0.41298853  0.05407268 -0.13876244  0.68938733 -0.34368091 -0.38383668\n",
      "   0.11652771 -0.4918767 ]]\n",
      "Training accuracy: 75.986%\n",
      "Test accuracy: 53.533%\n",
      "Number of non-zero element:  50\n"
     ]
    }
   ],
   "source": [
    "# Tried different value of c and finding features weight\n",
    "# More Sparsity (Fewer elements of W* being non-zero) by increasing Lambda (decreasing C)\n",
    "C_param = [10, 1, 0.1]\n",
    "\n",
    "for c in C_param:\n",
    "    clf = LogisticRegression(penalty = 'l2', C = c, class_weight = \"balanced\")\n",
    "    clf.fit(std_X_train, y_train)\n",
    "    print('\\nC value:', c)\n",
    "    print('Coefficient of each feature:', clf.coef_)\n",
    "    print('Training accuracy: %0.3f%%' %(clf.score(std_X_train, y_train) * 100))\n",
    "    print('Test accuracy: %0.3f%%' %(clf.score(std_x_test, y_test) * 100))\n",
    "    print(\"Number of non-zero element: \",np.count_nonzero(clf.coef_))"
   ]
  },
  {
   "cell_type": "markdown",
   "metadata": {},
   "source": [
    "# Checking for multicollinearity using pertubation test"
   ]
  },
  {
   "cell_type": "code",
   "execution_count": 148,
   "metadata": {},
   "outputs": [
    {
     "name": "stdout",
     "output_type": "stream",
     "text": [
      "Accuracy score: 53.53%\n",
      "50\n"
     ]
    }
   ],
   "source": [
    "clf = LogisticRegression(penalty = 'l2', C = optimal_lambda_avgw2v_random, class_weight = \"balanced\")\n",
    "clf.fit(std_X_train, y_train)\n",
    "y_pred = clf.predict(std_x_test)\n",
    "print(\"Accuracy score: %0.2f%%\" %(accuracy_score(y_test, y_pred) * 100))\n",
    "print(np.count_nonzero(clf.coef_))"
   ]
  },
  {
   "cell_type": "code",
   "execution_count": 149,
   "metadata": {},
   "outputs": [
    {
     "data": {
      "text/plain": [
       "(7000, 50)"
      ]
     },
     "execution_count": 149,
     "metadata": {},
     "output_type": "execute_result"
    }
   ],
   "source": [
    "std_X_train.shape"
   ]
  },
  {
   "cell_type": "code",
   "execution_count": 150,
   "metadata": {},
   "outputs": [
    {
     "data": {
      "text/plain": [
       "50"
      ]
     },
     "execution_count": 150,
     "metadata": {},
     "output_type": "execute_result"
    }
   ],
   "source": [
    "np.count_nonzero(clf.coef_)"
   ]
  },
  {
   "cell_type": "code",
   "execution_count": 151,
   "metadata": {},
   "outputs": [
    {
     "name": "stdout",
     "output_type": "stream",
     "text": [
      "[ 0.02241181 -0.52825297  0.95858137  0.59887024  0.15580805  0.79977547\n",
      " -0.60865838  0.93484021  0.74440558 -0.06434121  1.28749833 -0.06747753\n",
      " -0.79654467 -0.10154702 -0.66498114  0.46813153  0.09358682  1.38925238\n",
      " -0.30822788  0.53028464  0.63676646 -0.20195766  0.74117984  0.24564329\n",
      "  0.7736663  -0.44105637  0.62536183 -1.03306367 -1.79965388  0.9976974\n",
      "  1.18200471  0.34198814  0.05762823  0.58070046  0.90667812 -0.73879623\n",
      "  1.05096543  0.08956915  1.31389004  0.51756092  0.76485609  2.23005928\n",
      " -1.51473061 -0.41377732 -0.60284507  1.23393394 -0.9330764  -0.65066021\n",
      "  0.45995443 -1.80302178]\n"
     ]
    }
   ],
   "source": [
    "from scipy.sparse import find\n",
    "\n",
    "# Before adding noise in data\n",
    "cf = clf.coef_[0]\n",
    "w_coef1 = cf[np.nonzero(cf)]\n",
    "print(w_coef1[:50])"
   ]
  },
  {
   "cell_type": "code",
   "execution_count": 152,
   "metadata": {},
   "outputs": [
    {
     "data": {
      "text/plain": [
       "(7000, 50)"
      ]
     },
     "execution_count": 152,
     "metadata": {},
     "output_type": "execute_result"
    }
   ],
   "source": [
    "# Generate random normal variable as a noise \n",
    "std_X_train_pert = std_X_train\n",
    "noise = np.random.normal(0, 0.001, size = (std_X_train_pert[np.nonzero(std_X_train_pert)].size,))\n",
    "#print(noise.shape)\n",
    "np.nonzero(std_X_train_pert)\n",
    "std_X_train_pert[np.nonzero(std_X_train_pert)] = noise + std_X_train_pert[np.nonzero(std_X_train_pert)]\n",
    "std_X_train_pert.shape"
   ]
  },
  {
   "cell_type": "code",
   "execution_count": 153,
   "metadata": {},
   "outputs": [
    {
     "data": {
      "text/plain": [
       "(7000, 50)"
      ]
     },
     "execution_count": 153,
     "metadata": {},
     "output_type": "execute_result"
    }
   ],
   "source": [
    "std_X_train_pert.shape"
   ]
  },
  {
   "cell_type": "code",
   "execution_count": 156,
   "metadata": {},
   "outputs": [
    {
     "name": "stdout",
     "output_type": "stream",
     "text": [
      "Accuracy score: 53.60%\n",
      "50\n"
     ]
    }
   ],
   "source": [
    "clf = LogisticRegression(penalty = 'l2', C = optimal_lambda_avgw2v_random, class_weight = \"balanced\" , solver = 'liblinear')\n",
    "clf.fit(std_X_train_pert, y_train)\n",
    "y_pred = clf.predict(std_x_test)\n",
    "print(\"Accuracy score: %0.2f%%\" %(accuracy_score(y_test, y_pred) * 100))\n",
    "print(np.count_nonzero(clf.coef_))"
   ]
  },
  {
   "cell_type": "code",
   "execution_count": 157,
   "metadata": {},
   "outputs": [
    {
     "name": "stdout",
     "output_type": "stream",
     "text": [
      "[-7.12769279e-01 -8.14218838e-01  4.62236285e-01  9.62465319e-01\n",
      " -1.76656239e-02  1.05014860e+00 -7.46292742e-01  1.46590136e+00\n",
      "  1.06836361e+00  9.99858864e-05  1.24034389e+00 -1.41421781e-01\n",
      " -4.33121609e-01  7.49999125e-01 -5.68099887e-01  5.26373554e-01\n",
      "  3.16614309e-01  2.17968618e+00 -1.81753405e-01  7.83483342e-01\n",
      "  5.49025956e-01 -3.33353370e-01  1.16352120e+00  1.27810601e-01\n",
      "  1.67633720e+00 -9.76427678e-01  1.11838870e+00 -1.00550188e+00\n",
      " -1.91670544e+00  1.89319835e+00  7.99368644e-01  7.68893113e-01\n",
      "  2.96502114e-01  9.09904335e-01  9.30426695e-01 -1.47487460e+00\n",
      "  1.71962908e+00 -6.52340136e-02  1.17447097e+00  7.83260424e-01\n",
      "  2.92402250e-01  3.14254397e+00 -2.19615065e+00 -4.85175705e-01\n",
      " -5.89363418e-01  1.49799500e+00 -9.86462658e-01 -4.72227093e-01\n",
      "  7.59997642e-01 -1.69084551e+00]\n"
     ]
    }
   ],
   "source": [
    "cf = clf.coef_[0]\n",
    "w_coef2 = cf[np.nonzero(cf)]\n",
    "print(w_coef2[:50])"
   ]
  },
  {
   "cell_type": "code",
   "execution_count": 158,
   "metadata": {},
   "outputs": [
    {
     "name": "stdout",
     "output_type": "stream",
     "text": [
      "No of weights that changes more than 40% is: 20\n"
     ]
    }
   ],
   "source": [
    "# Calculate %increase \n",
    "cnt = 0\n",
    "for w1, w2 in zip(w_coef1, w_coef2):\n",
    "    inc = (abs(w1 - w2)/abs(w2)) * 100\n",
    "    if inc > 40:\n",
    "        cnt += 1\n",
    "print(\"No of weights that changes more than 40% is:\", cnt)"
   ]
  },
  {
   "cell_type": "code",
   "execution_count": 159,
   "metadata": {},
   "outputs": [
    {
     "data": {
      "text/html": [
       "<div>\n",
       "<style scoped>\n",
       "    .dataframe tbody tr th:only-of-type {\n",
       "        vertical-align: middle;\n",
       "    }\n",
       "\n",
       "    .dataframe tbody tr th {\n",
       "        vertical-align: top;\n",
       "    }\n",
       "\n",
       "    .dataframe thead th {\n",
       "        text-align: right;\n",
       "    }\n",
       "</style>\n",
       "<table border=\"1\" class=\"dataframe\">\n",
       "  <thead>\n",
       "    <tr style=\"text-align: right;\">\n",
       "      <th></th>\n",
       "      <th>Model</th>\n",
       "      <th>Hyper Parameter(lambda)</th>\n",
       "      <th>Train Error</th>\n",
       "      <th>Test Error</th>\n",
       "      <th>Accuracy</th>\n",
       "    </tr>\n",
       "  </thead>\n",
       "  <tbody>\n",
       "    <tr>\n",
       "      <th>1</th>\n",
       "      <td>LogisticRegression with TFIDF</td>\n",
       "      <td>1</td>\n",
       "      <td>0.000000</td>\n",
       "      <td>18.700000</td>\n",
       "      <td>81.300000</td>\n",
       "    </tr>\n",
       "    <tr>\n",
       "      <th>0</th>\n",
       "      <td>LogisticRegression with Bow</td>\n",
       "      <td>1</td>\n",
       "      <td>0.000000</td>\n",
       "      <td>19.900000</td>\n",
       "      <td>80.100000</td>\n",
       "    </tr>\n",
       "    <tr>\n",
       "      <th>2</th>\n",
       "      <td>LogisticRegression with avgw2v</td>\n",
       "      <td>10000</td>\n",
       "      <td>0.230714</td>\n",
       "      <td>46.466667</td>\n",
       "      <td>53.533333</td>\n",
       "    </tr>\n",
       "  </tbody>\n",
       "</table>\n",
       "</div>"
      ],
      "text/plain": [
       "                            Model  Hyper Parameter(lambda)  Train Error  \\\n",
       "1   LogisticRegression with TFIDF                        1     0.000000   \n",
       "0     LogisticRegression with Bow                        1     0.000000   \n",
       "2  LogisticRegression with avgw2v                    10000     0.230714   \n",
       "\n",
       "   Test Error   Accuracy  \n",
       "1   18.700000  81.300000  \n",
       "0   19.900000  80.100000  \n",
       "2   46.466667  53.533333  "
      ]
     },
     "execution_count": 159,
     "metadata": {},
     "output_type": "execute_result"
    }
   ],
   "source": [
    "# model performence table using grid search\n",
    "#import itables\n",
    "models = pd.DataFrame({'Model': ['LogisticRegression with Bow', \"LogisticRegression with TFIDF\", \"LogisticRegression with avgw2v\"], 'Hyper Parameter(lambda)': [optimal_lambda_bow_grid, optimal_lambda_tfidf_grid, optimal_lambda_avgw2v_grid], 'Train Error': [1-train_acc_bow_grid, 1-train_acc_tfidf_grid, 1-train_acc_avgw2v_grid], 'Test Error': [100-test_acc_bow_grid, 100-test_acc_tfidf_grid, 100-test_acc_avgw2v_grid], 'Accuracy': [test_acc_bow_grid, test_acc_tfidf_grid, test_acc_avgw2v_grid]}, columns = [\"Model\", \"Hyper Parameter(lambda)\", \"Train Error\", \"Test Error\", \"Accuracy\"]).sort_values(by='Accuracy', ascending=False)\n",
    "models.sort_values(by='Accuracy', ascending=False)"
   ]
  },
  {
   "cell_type": "code",
   "execution_count": 160,
   "metadata": {},
   "outputs": [
    {
     "data": {
      "text/html": [
       "<div>\n",
       "<style scoped>\n",
       "    .dataframe tbody tr th:only-of-type {\n",
       "        vertical-align: middle;\n",
       "    }\n",
       "\n",
       "    .dataframe tbody tr th {\n",
       "        vertical-align: top;\n",
       "    }\n",
       "\n",
       "    .dataframe thead th {\n",
       "        text-align: right;\n",
       "    }\n",
       "</style>\n",
       "<table border=\"1\" class=\"dataframe\">\n",
       "  <thead>\n",
       "    <tr style=\"text-align: right;\">\n",
       "      <th></th>\n",
       "      <th>Model</th>\n",
       "      <th>Hyper Parameter(lambda)</th>\n",
       "      <th>Train Error</th>\n",
       "      <th>Test Error</th>\n",
       "      <th>Accuracy</th>\n",
       "    </tr>\n",
       "  </thead>\n",
       "  <tbody>\n",
       "    <tr>\n",
       "      <th>1</th>\n",
       "      <td>LogisticRegression with TFIDF</td>\n",
       "      <td>3.762734</td>\n",
       "      <td>0.000000</td>\n",
       "      <td>18.666667</td>\n",
       "      <td>81.333333</td>\n",
       "    </tr>\n",
       "    <tr>\n",
       "      <th>0</th>\n",
       "      <td>LogisticRegression with Bow</td>\n",
       "      <td>2.331333</td>\n",
       "      <td>0.000000</td>\n",
       "      <td>19.900000</td>\n",
       "      <td>80.100000</td>\n",
       "    </tr>\n",
       "    <tr>\n",
       "      <th>2</th>\n",
       "      <td>LogisticRegression with avgw2v</td>\n",
       "      <td>1.607094</td>\n",
       "      <td>0.231143</td>\n",
       "      <td>46.400000</td>\n",
       "      <td>53.600000</td>\n",
       "    </tr>\n",
       "  </tbody>\n",
       "</table>\n",
       "</div>"
      ],
      "text/plain": [
       "                            Model  Hyper Parameter(lambda)  Train Error  \\\n",
       "1   LogisticRegression with TFIDF                 3.762734     0.000000   \n",
       "0     LogisticRegression with Bow                 2.331333     0.000000   \n",
       "2  LogisticRegression with avgw2v                 1.607094     0.231143   \n",
       "\n",
       "   Test Error   Accuracy  \n",
       "1   18.666667  81.333333  \n",
       "0   19.900000  80.100000  \n",
       "2   46.400000  53.600000  "
      ]
     },
     "execution_count": 160,
     "metadata": {},
     "output_type": "execute_result"
    }
   ],
   "source": [
    "# model performence table using random search\n",
    "models = pd.DataFrame({'Model': ['LogisticRegression with Bow', \"LogisticRegression with TFIDF\", \"LogisticRegression with avgw2v\"], 'Hyper Parameter(lambda)': [optimal_lambda_bow_random, optimal_lambda_tfidf_random, optimal_lambda_avgw2v_random], 'Train Error': [1-train_acc_bow_random, 1-train_acc_tfidf_random, 1-train_acc_avgw2v_random], 'Test Error': [100-test_acc_bow_random, 100-test_acc_tfidf_random, 100-test_acc_avgw2v_random], 'Accuracy': [test_acc_bow_random, test_acc_tfidf_random, test_acc_avgw2v_random]}, columns = [\"Model\", \"Hyper Parameter(lambda)\", \"Train Error\", \"Test Error\", \"Accuracy\"]).sort_values(by = \"Accuracy\", ascending = False)\n",
    "models.sort_values(by='Accuracy', ascending=False)"
   ]
  },
  {
   "cell_type": "markdown",
   "metadata": {},
   "source": [
    "# TFIDF Word2Vec "
   ]
  },
  {
   "cell_type": "code",
   "execution_count": 137,
   "metadata": {},
   "outputs": [
    {
     "ename": "KeyboardInterrupt",
     "evalue": "",
     "output_type": "error",
     "traceback": [
      "\u001b[1;31m---------------------------------------------------------------------------\u001b[0m",
      "\u001b[1;31mKeyboardInterrupt\u001b[0m                         Traceback (most recent call last)",
      "\u001b[1;32m<ipython-input-137-5b307c50949c>\u001b[0m in \u001b[0;36m<module>\u001b[1;34m\u001b[0m\n\u001b[0;32m     16\u001b[0m             \u001b[0mweight_sum\u001b[0m \u001b[1;33m+=\u001b[0m \u001b[0mtf_idf\u001b[0m\u001b[1;33m\u001b[0m\u001b[1;33m\u001b[0m\u001b[0m\n\u001b[0;32m     17\u001b[0m         \u001b[1;32mexcept\u001b[0m\u001b[1;33m:\u001b[0m\u001b[1;33m\u001b[0m\u001b[1;33m\u001b[0m\u001b[0m\n\u001b[1;32m---> 18\u001b[1;33m             \u001b[1;32mpass\u001b[0m\u001b[1;33m\u001b[0m\u001b[1;33m\u001b[0m\u001b[0m\n\u001b[0m\u001b[0;32m     19\u001b[0m     \u001b[0msent_vec\u001b[0m \u001b[1;33m/=\u001b[0m \u001b[0mweight_sum\u001b[0m\u001b[1;33m\u001b[0m\u001b[1;33m\u001b[0m\u001b[0m\n\u001b[0;32m     20\u001b[0m     \u001b[0mtfidf_sent_vectors\u001b[0m\u001b[1;33m.\u001b[0m\u001b[0mappend\u001b[0m\u001b[1;33m(\u001b[0m\u001b[0msent_vec\u001b[0m\u001b[1;33m)\u001b[0m\u001b[1;33m\u001b[0m\u001b[1;33m\u001b[0m\u001b[0m\n",
      "\u001b[1;31mKeyboardInterrupt\u001b[0m: "
     ]
    }
   ],
   "source": [
    "# TF-IDF weighted Word2Vec\n",
    "tfidf_feat = tf_idf_vect.get_feature_names() # tfidf words/col-names\n",
    "# final_tf_idf is the sparse matrix with row= sentence, col=word and cell_val = tfidf\n",
    "\n",
    "tfidf_sent_vectors = [] # the tfidf-w2v for each sentence/review is stored in this list\n",
    "row=0\n",
    "for sent in list_of_sent: # for each review/sentence\n",
    "    sent_vec = np.zeros(1) # as word vectors are of zero length\n",
    "    weight_sum =0 # num of words with a valid vector in the sentence/review\n",
    "    for word in sent: # for each word in a review/sentence\n",
    "        try:\n",
    "            vec = w2v_model_train.wv[word]\n",
    "            # obtain the tf_idfidf of a word in a sentence/review\n",
    "            tf_idf = X_trn[row, tfidf_feat.index(word)]\n",
    "            sent_vec += (vec * tf_idf)\n",
    "            weight_sum += tf_idf\n",
    "        except:\n",
    "            pass\n",
    "    sent_vec /= weight_sum\n",
    "    tfidf_sent_vectors.append(sent_vec)\n",
    "    row += 1"
   ]
  },
  {
   "cell_type": "code",
   "execution_count": null,
   "metadata": {},
   "outputs": [],
   "source": [
    "len(tfidf_sent_vectors)"
   ]
  },
  {
   "cell_type": "code",
   "execution_count": null,
   "metadata": {},
   "outputs": [],
   "source": [
    "X_train = tfidf_sent_vectors"
   ]
  },
  {
   "cell_type": "code",
   "execution_count": null,
   "metadata": {},
   "outputs": [],
   "source": [
    "# TF-IDF weighted Word2Vec\n",
    "tfidf_feat = tf_idf_vect.get_feature_names() # tfidf words/col-names\n",
    "# final_tf_idf is the sparse matrix with row= sentence, col=word and cell_val = tfidf\n",
    "\n",
    "tfidf_sent_vectors_test = []; # the tfidf-w2v for each sentence/review is stored in this list\n",
    "row=0;\n",
    "for sent in list_of_sent_test: # for each review/sentence\n",
    "    sent_vec = np.zeros(50) # as word vectors are of zero length\n",
    "    weight_sum =0; # num of words with a valid vector in the sentence/review\n",
    "    for word in sent: # for each word in a review/sentence\n",
    "        try:\n",
    "            vec = w2v_model_test.wv[word]\n",
    "            # obtain the tf_idfidf of a word in a sentence/review\n",
    "            tfidf = x_tst[row, tfidf_feat.index(word)]\n",
    "            sent_vec += (vec * tfidf)\n",
    "            weight_sum += tfidf\n",
    "        except:\n",
    "            pass\n",
    "    sent_vec /= weight_sum\n",
    "    tfidf_sent_vectors_test.append(sent_vec)\n",
    "    row += 1"
   ]
  },
  {
   "cell_type": "code",
   "execution_count": null,
   "metadata": {},
   "outputs": [],
   "source": [
    "len(tfidf_sent_vectors_test)"
   ]
  },
  {
   "cell_type": "code",
   "execution_count": null,
   "metadata": {},
   "outputs": [],
   "source": [
    "x_test = tfidf_sent_vectors_test"
   ]
  },
  {
   "cell_type": "code",
   "execution_count": null,
   "metadata": {},
   "outputs": [],
   "source": [
    "X_train = np.nan_to_num(X_train)"
   ]
  },
  {
   "cell_type": "code",
   "execution_count": null,
   "metadata": {},
   "outputs": [],
   "source": [
    "# Standardization \n",
    "from sklearn.preprocessing import StandardScaler\n",
    "scaler = StandardScaler(with_mean = False)\n",
    "std_X_train = scaler.fit_transform(X_train)"
   ]
  },
  {
   "cell_type": "code",
   "execution_count": null,
   "metadata": {},
   "outputs": [],
   "source": [
    "std_X_train.shape"
   ]
  },
  {
   "cell_type": "code",
   "execution_count": null,
   "metadata": {},
   "outputs": [],
   "source": [
    "x_test = np.nan_to_num(x_test)"
   ]
  },
  {
   "cell_type": "code",
   "execution_count": null,
   "metadata": {},
   "outputs": [],
   "source": [
    "scaler = StandardScaler(with_mean = False)\n",
    "std_x_test = scaler.fit_transform(x_test)"
   ]
  },
  {
   "cell_type": "code",
   "execution_count": null,
   "metadata": {},
   "outputs": [],
   "source": [
    "std_x_test.shape"
   ]
  },
  {
   "cell_type": "code",
   "execution_count": null,
   "metadata": {},
   "outputs": [],
   "source": [
    "# To choose optimal_alpha using nested cross validation\n",
    "optimal_lambda_tfidfw2v_grid = lr_grid_plot(std_X_train, y_train)\n",
    "optimal_lambda_tfidfw2v_grid"
   ]
  },
  {
   "cell_type": "code",
   "execution_count": null,
   "metadata": {},
   "outputs": [],
   "source": [
    "# instantiate learning model \n",
    "lr_model =  LogisticRegression(penalty = 'l2', C = optimal_lambda_tfidfw2v_grid, class_weight = \"balanced\")\n",
    "# fitting the model\n",
    "lr_model.fit(std_X_train, y_train)\n",
    "# predict the response\n",
    "pred = lr_model.predict(std_x_test)\n",
    "# predict probablistic response\n",
    "pred_prob = lr_model.predict_proba(std_x_test)"
   ]
  },
  {
   "cell_type": "code",
   "execution_count": null,
   "metadata": {},
   "outputs": [],
   "source": [
    "# F1-score, auc, precision_recall_curve\n",
    "from sklearn.metrics import f1_score, auc, precision_recall_curve, average_precision_score\n",
    "from sklearn.metrics import auc\n",
    "f1 = f1_score(y_test, pred)\n",
    "precision, recall, thresholds = precision_recall_curve(y_test, pred_prob[:,1])\n",
    "auc = auc(recall, precision)\n",
    "avg_precision = average_precision_score(y_test, pred_prob[:,1])\n",
    "print(\"Average precision score:\", avg_precision)\n",
    "print(\"F1_score:\", f1)\n",
    "print(\"Auc score:\",auc)\n",
    "plot_precision_recall_curve(recall, precision)"
   ]
  },
  {
   "cell_type": "code",
   "execution_count": null,
   "metadata": {},
   "outputs": [],
   "source": [
    "# Accuracy on train data\n",
    "train_acc_tfidfw2v_grid = lr_model.score(std_X_train, y_train)\n",
    "print(\"Train accuracy\", train_acc_tfidfw2v_grid)"
   ]
  },
  {
   "cell_type": "code",
   "execution_count": null,
   "metadata": {},
   "outputs": [],
   "source": [
    "test_acc_tfidfw2v_grid = accuracy_score(y_test, pred) * 100\n",
    "print('\\nThe accuracy of the logistic regression for c = %0.3f is %f%%' % (optimal_lambda_tfidfw2v_grid, test_acc_tfidfw2v_grid))"
   ]
  },
  {
   "cell_type": "code",
   "execution_count": null,
   "metadata": {},
   "outputs": [],
   "source": [
    "# Confusion Matrix\n",
    "from sklearn.metrics import confusion_matrix\n",
    "cm = confusion_matrix(y_test, pred)\n",
    "cm"
   ]
  },
  {
   "cell_type": "code",
   "execution_count": null,
   "metadata": {},
   "outputs": [],
   "source": [
    "# plot confusion matrix to describe the performance of classifier.\n",
    "import seaborn as sns\n",
    "class_label = [\"negative\", \"positive\"]\n",
    "df_cm = pd.DataFrame(cm, index = class_label, columns = class_label)\n",
    "sns.heatmap(df_cm, annot = True, fmt = \"d\")\n",
    "plt.title(\"Confusiion Matrix\")\n",
    "plt.xlabel(\"Predicted Label\")\n",
    "plt.ylabel(\"True Label\")\n",
    "plt.show()"
   ]
  },
  {
   "cell_type": "code",
   "execution_count": null,
   "metadata": {},
   "outputs": [],
   "source": [
    "# To show main classification report\n",
    "from sklearn.metrics import classification_report\n",
    "print(classification_report(y_test, pred))"
   ]
  },
  {
   "cell_type": "code",
   "execution_count": null,
   "metadata": {},
   "outputs": [],
   "source": [
    "optimal_lambda_tfidfw2v_random = lr_random_plot(std_X_train, y_train)\n",
    "optimal_lambda_tfidfw2v_random"
   ]
  },
  {
   "cell_type": "code",
   "execution_count": null,
   "metadata": {},
   "outputs": [],
   "source": [
    "# instantiate learning model \n",
    "lr_model =  LogisticRegression(penalty = 'l1', C = optimal_lambda_tfidfw2v_random, class_weight = \"balanced\")\n",
    "# fitting the model\n",
    "lr_model.fit(std_X_train, y_train)\n",
    "# predict the response\n",
    "pred = lr_model.predict(std_x_test)\n",
    "# predict probablistic response\n",
    "pred_prob = lr_model.predict_proba(std_x_test)"
   ]
  },
  {
   "cell_type": "code",
   "execution_count": null,
   "metadata": {},
   "outputs": [],
   "source": [
    "# F1-score, auc, precision_recall_curve\n",
    "from sklearn.metrics import f1_score, auc, precision_recall_curve, average_precision_score\n",
    "from sklearn.metrics import auc\n",
    "f1 = f1_score(y_test, pred)\n",
    "precision, recall, thresholds = precision_recall_curve(y_test, pred_prob[:,1])\n",
    "auc = auc(recall, precision)\n",
    "avg_precision = average_precision_score(y_test, pred_prob[:,1])\n",
    "print(\"Average precision score:\", avg_precision)\n",
    "print(\"F1_score:\", f1)\n",
    "print(\"Auc score:\",auc)\n",
    "plot_precision_recall_curve(recall, precision)"
   ]
  },
  {
   "cell_type": "code",
   "execution_count": null,
   "metadata": {},
   "outputs": [],
   "source": [
    "# Accuracy on train data\n",
    "train_acc_tfidfw2v_random = lr_model.score(std_X_train, y_train)\n",
    "print(\"Train accuracy\", train_acc_tfidfw2v_random)"
   ]
  },
  {
   "cell_type": "code",
   "execution_count": null,
   "metadata": {},
   "outputs": [],
   "source": [
    "test_acc_tfidfw2v_random = accuracy_score(y_test, pred) * 100\n",
    "print('\\nThe accuracy of the logistic regression for c = %f is %.2f%%' % (optimal_lambda_tfidfw2v_random, test_acc_tfidfw2v_random))"
   ]
  },
  {
   "cell_type": "code",
   "execution_count": null,
   "metadata": {},
   "outputs": [],
   "source": [
    "# Confusion Matrix\n",
    "from sklearn.metrics import confusion_matrix\n",
    "cm = confusion_matrix(y_test, pred)\n",
    "cm"
   ]
  },
  {
   "cell_type": "code",
   "execution_count": null,
   "metadata": {},
   "outputs": [],
   "source": [
    "# plot confusion matrix to describe the performance of classifier.\n",
    "import seaborn as sns\n",
    "class_label = [\"negative\", \"positive\"]\n",
    "df_cm = pd.DataFrame(cm, index = class_label, columns = class_label)\n",
    "sns.heatmap(df_cm, annot = True, fmt = \"d\")\n",
    "plt.title(\"Confusiion Matrix\")\n",
    "plt.xlabel(\"Predicted Label\")\n",
    "plt.ylabel(\"True Label\")\n",
    "plt.show()"
   ]
  },
  {
   "cell_type": "code",
   "execution_count": null,
   "metadata": {},
   "outputs": [],
   "source": [
    "# To show main classification report\n",
    "from sklearn.metrics import classification_report\n",
    "print(classification_report(y_test, pred))"
   ]
  },
  {
   "cell_type": "code",
   "execution_count": null,
   "metadata": {},
   "outputs": [],
   "source": [
    "# Tried different value of c and finding features weight\n",
    "# More Sparsity (Fewer elements of W* being non-zero) by increasing Lambda (decreasing C)\n",
    "C_param = [10, 1, 0.1]\n",
    "\n",
    "for c in C_param:\n",
    "    clf = LogisticRegression(penalty='l1', C = c)\n",
    "    clf.fit(X_train, y_train)\n",
    "    print('\\nC value:', c)\n",
    "    print('Coefficient of each feature:', clf.coef_)\n",
    "    print('Training accuracy: %0.3f%%' %(clf.score(std_X_train, y_train) * 100))\n",
    "    print('Test accuracy: %0.3f%%' %(clf.score(std_x_test, y_test) * 100))\n",
    "    print(\"Number of non-zero element: \",np.count_nonzero(clf.coef_))"
   ]
  },
  {
   "cell_type": "markdown",
   "metadata": {},
   "source": [
    "# Checking for multicollinearity using pertubation test"
   ]
  },
  {
   "cell_type": "code",
   "execution_count": null,
   "metadata": {},
   "outputs": [],
   "source": [
    "clf = LogisticRegression(penalty='l1', C = optimal_lambda_tfidfw2v_random)\n",
    "clf.fit(std_X_train, y_train)\n",
    "y_pred = clf.predict(std_x_test)\n",
    "print(\"Accuracy score: %0.2f%%\" %(accuracy_score(y_test, y_pred) * 100))\n",
    "print(np.count_nonzero(clf.coef_))"
   ]
  },
  {
   "cell_type": "code",
   "execution_count": null,
   "metadata": {},
   "outputs": [],
   "source": [
    "std_X_train.shape"
   ]
  },
  {
   "cell_type": "code",
   "execution_count": null,
   "metadata": {},
   "outputs": [],
   "source": [
    "np.count_nonzero(clf.coef_)"
   ]
  },
  {
   "cell_type": "code",
   "execution_count": null,
   "metadata": {},
   "outputs": [],
   "source": [
    "from scipy.sparse import find\n",
    "\n",
    "# Before adding noise in data\n",
    "cf = clf.coef_[0]\n",
    "w_coef1 = cf[np.nonzero(cf)]\n",
    "print(w_coef1[:50])"
   ]
  },
  {
   "cell_type": "code",
   "execution_count": null,
   "metadata": {},
   "outputs": [],
   "source": [
    "# Generate random normal variable as a noise \n",
    "std_X_train_pert = std_X_train\n",
    "noise = np.random.normal(0, 0.001, size = (std_X_train_pert[np.nonzero(std_X_train_pert)].size,))\n",
    "np.nonzero(std_X_train_pert)\n",
    "std_X_train_pert[np.nonzero(std_X_train_pert)] = noise + std_X_train_pert[np.nonzero(std_X_train_pert)]\n",
    "std_X_train_pert.shape"
   ]
  },
  {
   "cell_type": "code",
   "execution_count": null,
   "metadata": {},
   "outputs": [],
   "source": [
    "# Generate random normal variable as a noise \n",
    "std_X_train_pert = std_X_train\n",
    "noise = np.random.normal(0, 0.001, size = (std_X_train_pert[np.nonzero(std_X_train_pert)].size,))\n",
    "np.nonzero(std_X_train_pert)\n",
    "std_X_train_pert[np.nonzero(std_X_train_pert)] = noise + std_X_train_pert[np.nonzero(std_X_train_pert)]\n",
    "std_X_train_pert.shape"
   ]
  },
  {
   "cell_type": "code",
   "execution_count": null,
   "metadata": {},
   "outputs": [],
   "source": [
    "std_X_train_pert.shape"
   ]
  },
  {
   "cell_type": "code",
   "execution_count": null,
   "metadata": {},
   "outputs": [],
   "source": [
    "clf = LogisticRegression(penalty='l1', C = optimal_lambda_tfidfw2v_random)\n",
    "clf.fit(std_X_train_pert, y_train)\n",
    "y_pred = clf.predict(x_test)\n",
    "print(\"Accuracy score: %0.2f%%\" %(accuracy_score(y_test, y_pred) * 100))\n",
    "print(np.count_nonzero(clf.coef_))"
   ]
  },
  {
   "cell_type": "code",
   "execution_count": null,
   "metadata": {},
   "outputs": [],
   "source": [
    "cf = clf.coef_[0]\n",
    "w_coef1 = cf[np.nonzero(cf)]\n",
    "print(w_coef2[:50])"
   ]
  },
  {
   "cell_type": "code",
   "execution_count": null,
   "metadata": {},
   "outputs": [],
   "source": [
    "# Calculate %increase \n",
    "cnt = 0\n",
    "for w1, w2 in zip(w_coef1, w_coef2):\n",
    "    inc = (abs(w1 - w2)/abs(w1)) * 100  \n",
    "    if inc > 40:\n",
    "        cnt += 1\n",
    "print(\"No of weights that changes more than 40% is:\", cnt)"
   ]
  },
  {
   "cell_type": "code",
   "execution_count": null,
   "metadata": {},
   "outputs": [],
   "source": [
    "# model performence table using grid search\n",
    "import itable\n",
    "models = pd.DataFrame({'Model': ['LogisticRegression with Bow', \"LogisticRegression with TFIDF\", \"LogisticRegression with avgw2v\", \"LogisticRegression with TFIDFW2V\"], 'Hyper Parameter(lambda)': [optimal_lambda_bow_grid, optimal_lambda_tfidf_grid, optimal_lambda_avgw2v_grid, optimal_lambda_tfidfw2v_grid], 'Train Error': [1-train_acc_bow_grid, 1-train_acc_tfidf_grid, 1-train_acc_avgw2v_grid, 1-train_acc_tfidfw2v_grid], 'Test Error': [100-test_acc_bow_grid, 100-test_acc_tfidf_grid, 100-test_acc_avgw2v_grid, 100-test_acc_tfidfw2v_grid], 'Accuracy': [test_acc_bow_grid, test_acc_tfidf_grid, test_acc_avgw2v_grid, test_acc_tfidfw2v_grid]}, columns = [\"Model\", \"Hyper Parameter(lambda)\", \"Train Error\", \"Test Error\", \"Accuracy\"]).sort_values(by='Accuracy', ascending=False)\n",
    "itable.PrettyTable(models, tstyle = itable.TableStyle(theme = \"theme1\"), center = True, header_row = True)"
   ]
  },
  {
   "cell_type": "code",
   "execution_count": null,
   "metadata": {},
   "outputs": [],
   "source": [
    "# model performence table using random search\n",
    "models = pd.DataFrame({'Model': ['LogisticRegression with Bow', \"LogisticRegression with TFIDF\", \"LogisticRegression with avgw2v\", \"LogisticRegression with TFIDFW2V\"], 'Hyper Parameter(lambda)': [optimal_lambda_bow_random, optimal_lambda_tfidf_random, optimal_lambda_avgw2v_random, optimal_lambda_tfidfw2v_random ], 'Train Error': [1-train_acc_bow_random, 1-train_acc_tfidf_random, 1-train_acc_avgw2v_random, 1-train_acc_tfidfw2v_random], 'Test Error': [100-test_acc_bow_random, 100-test_acc_tfidf_random, 100-test_acc_avgw2v_random, 100-test_acc_tfidfw2v_random], 'Accuracy': [test_acc_bow_random, test_acc_tfidf_random, test_acc_avgw2v_random, test_acc_tfidfw2v_random]}, columns = [\"Model\", \"Hyper Parameter(lambda)\", \"Train Error\", \"Test Error\", \"Accuracy\"]).sort_values(by = \"Accuracy\", ascending = False)\n",
    "itable.PrettyTable(models, tstyle = itable.TableStyle(theme = \"theme1\"), center = True, header_row = True)"
   ]
  }
 ],
 "metadata": {
  "kernelspec": {
   "display_name": "Python 3",
   "language": "python",
   "name": "python3"
  },
  "language_info": {
   "codemirror_mode": {
    "name": "ipython",
    "version": 3
   },
   "file_extension": ".py",
   "mimetype": "text/x-python",
   "name": "python",
   "nbconvert_exporter": "python",
   "pygments_lexer": "ipython3",
   "version": "3.7.6"
  }
 },
 "nbformat": 4,
 "nbformat_minor": 4
}
